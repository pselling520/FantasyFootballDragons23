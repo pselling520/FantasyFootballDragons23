{
 "cells": [
  {
   "cell_type": "markdown",
   "id": "747120ab-364a-454d-a24a-d7a58e8f6357",
   "metadata": {},
   "source": [
    "# Data Source\n",
    "\n",
    "I'm using weekly fantasy football data downloaded from [FantasyPros](https://www.fantasypros.com/). Specifically, I downloaded weekly data by position with the settings of Half PPR and Consensus Roster %. You can access an example week [here](https://www.fantasypros.com/nfl/stats/qb.php?week=1&scoring=HALF&range=week)."
   ]
  },
  {
   "cell_type": "markdown",
   "id": "8fe902ad-2019-4bfe-98de-805849ddc839",
   "metadata": {},
   "source": [
    "# Load in libraries"
   ]
  },
  {
   "cell_type": "code",
   "execution_count": 1,
   "id": "e90561d8-e607-496d-aa21-0be9c6d2cc57",
   "metadata": {},
   "outputs": [],
   "source": [
    "import pandas as pd\n",
    "import numpy as np\n",
    "import scipy.stats as st"
   ]
  },
  {
   "cell_type": "markdown",
   "id": "17ea4cea-1c49-4a77-8903-f78b749798ab",
   "metadata": {},
   "source": [
    "# Basic League Info"
   ]
  },
  {
   "cell_type": "code",
   "execution_count": 2,
   "id": "7fed9842-bfd0-437c-ad09-fc19e5775fbf",
   "metadata": {},
   "outputs": [],
   "source": [
    "n_teams = 12\n",
    "n_weeks = 17"
   ]
  },
  {
   "cell_type": "markdown",
   "id": "6267a2cf-4688-4f8d-954e-de4499bc8232",
   "metadata": {},
   "source": [
    "# Set file path for each position"
   ]
  },
  {
   "cell_type": "code",
   "execution_count": 3,
   "id": "1d4774e1-b5a8-41d9-a000-69afa5b74e4c",
   "metadata": {},
   "outputs": [],
   "source": [
    "qb_path = 'C:\\\\Users\\\\Lenovo\\\\OneDrive\\\\Desktop\\\\fantasy_football\\\\2023\\\\QB_'\n",
    "rb_path = 'C:\\\\Users\\\\Lenovo\\\\OneDrive\\\\Desktop\\\\fantasy_football\\\\2023\\\\RB_'\n",
    "wr_path = 'C:\\\\Users\\\\Lenovo\\\\OneDrive\\\\Desktop\\\\fantasy_football\\\\2023\\\\WR_'\n",
    "te_path = 'C:\\\\Users\\\\Lenovo\\\\OneDrive\\\\Desktop\\\\fantasy_football\\\\2023\\\\TE_'"
   ]
  },
  {
   "cell_type": "markdown",
   "id": "f28f6541-5721-48a7-b810-17b483e37b19",
   "metadata": {},
   "source": [
    "# Load in weekly data\n",
    "\n",
    "## QBs"
   ]
  },
  {
   "cell_type": "code",
   "execution_count": 4,
   "id": "bc36914b-6cca-42e8-89e6-aee751ffd640",
   "metadata": {},
   "outputs": [],
   "source": [
    "qb1 = pd.read_csv(qb_path+'1.csv')\n",
    "qb2 = pd.read_csv(qb_path+'2.csv')\n",
    "qb3 = pd.read_csv(qb_path+'3.csv')\n",
    "qb4 = pd.read_csv(qb_path+'4.csv')\n",
    "qb5 = pd.read_csv(qb_path+'5.csv')\n",
    "qb6 = pd.read_csv(qb_path+'6.csv')\n",
    "qb7 = pd.read_csv(qb_path+'7.csv')\n",
    "qb8 = pd.read_csv(qb_path+'8.csv')\n",
    "qb9 = pd.read_csv(qb_path+'9.csv')\n",
    "qb10 = pd.read_csv(qb_path+'10.csv')\n",
    "qb11 = pd.read_csv(qb_path+'11.csv')\n",
    "qb12 = pd.read_csv(qb_path+'12.csv')\n",
    "qb13 = pd.read_csv(qb_path+'13.csv')\n",
    "qb14 = pd.read_csv(qb_path+'14.csv')\n",
    "qb15 = pd.read_csv(qb_path+'15.csv')\n",
    "qb16 = pd.read_csv(qb_path+'16.csv')\n",
    "qb17 = pd.read_csv(qb_path+'17.csv')"
   ]
  },
  {
   "cell_type": "markdown",
   "id": "a53a2d80-eef4-4716-8ae9-0873126b9f39",
   "metadata": {},
   "source": [
    "## RBs"
   ]
  },
  {
   "cell_type": "code",
   "execution_count": 5,
   "id": "eb645510-3197-40d1-a108-ec01b48462a1",
   "metadata": {},
   "outputs": [],
   "source": [
    "rb1 = pd.read_csv(rb_path+'1.csv')\n",
    "rb2 = pd.read_csv(rb_path+'2.csv')\n",
    "rb3 = pd.read_csv(rb_path+'3.csv')\n",
    "rb4 = pd.read_csv(rb_path+'4.csv')\n",
    "rb5 = pd.read_csv(rb_path+'5.csv')\n",
    "rb6 = pd.read_csv(rb_path+'6.csv')\n",
    "rb7 = pd.read_csv(rb_path+'7.csv')\n",
    "rb8 = pd.read_csv(rb_path+'8.csv')\n",
    "rb9 = pd.read_csv(rb_path+'9.csv')\n",
    "rb10 = pd.read_csv(rb_path+'10.csv')\n",
    "rb11 = pd.read_csv(rb_path+'11.csv')\n",
    "rb12 = pd.read_csv(rb_path+'12.csv')\n",
    "rb13 = pd.read_csv(rb_path+'13.csv')\n",
    "rb14 = pd.read_csv(rb_path+'14.csv')\n",
    "rb15 = pd.read_csv(rb_path+'15.csv')\n",
    "rb16 = pd.read_csv(rb_path+'16.csv')\n",
    "rb17 = pd.read_csv(rb_path+'17.csv')"
   ]
  },
  {
   "cell_type": "markdown",
   "id": "9dd8e805-81e3-491a-85bc-d6a24f428e7c",
   "metadata": {},
   "source": [
    "## WRs"
   ]
  },
  {
   "cell_type": "code",
   "execution_count": 6,
   "id": "2b8cc40c-c3ff-41a8-8bf9-f52d57eb4e51",
   "metadata": {},
   "outputs": [],
   "source": [
    "wr1 = pd.read_csv(wr_path+'1.csv')\n",
    "wr2 = pd.read_csv(wr_path+'2.csv')\n",
    "wr3 = pd.read_csv(wr_path+'3.csv')\n",
    "wr4 = pd.read_csv(wr_path+'4.csv')\n",
    "wr5 = pd.read_csv(wr_path+'5.csv')\n",
    "wr6 = pd.read_csv(wr_path+'6.csv')\n",
    "wr7 = pd.read_csv(wr_path+'7.csv')\n",
    "wr8 = pd.read_csv(wr_path+'8.csv')\n",
    "wr9 = pd.read_csv(wr_path+'9.csv')\n",
    "wr10 = pd.read_csv(wr_path+'10.csv')\n",
    "wr11 = pd.read_csv(wr_path+'11.csv')\n",
    "wr12 = pd.read_csv(wr_path+'12.csv')\n",
    "wr13 = pd.read_csv(wr_path+'13.csv')\n",
    "wr14 = pd.read_csv(wr_path+'14.csv')\n",
    "wr15 = pd.read_csv(wr_path+'15.csv')\n",
    "wr16 = pd.read_csv(wr_path+'16.csv')\n",
    "wr17 = pd.read_csv(wr_path+'17.csv')"
   ]
  },
  {
   "cell_type": "markdown",
   "id": "b81d1dcc-d287-46de-8063-88ac0365bcd8",
   "metadata": {},
   "source": [
    "## TEs"
   ]
  },
  {
   "cell_type": "code",
   "execution_count": 7,
   "id": "e04c3c3c-d4e6-4dbe-b65a-fe08fdb7f6e7",
   "metadata": {},
   "outputs": [],
   "source": [
    "te1 = pd.read_csv(te_path+'1.csv')\n",
    "te2 = pd.read_csv(te_path+'2.csv')\n",
    "te3 = pd.read_csv(te_path+'3.csv')\n",
    "te4 = pd.read_csv(te_path+'4.csv')\n",
    "te5 = pd.read_csv(te_path+'5.csv')\n",
    "te6 = pd.read_csv(te_path+'6.csv')\n",
    "te7 = pd.read_csv(te_path+'7.csv')\n",
    "te8 = pd.read_csv(te_path+'8.csv')\n",
    "te9 = pd.read_csv(te_path+'9.csv')\n",
    "te10 = pd.read_csv(te_path+'10.csv')\n",
    "te11 = pd.read_csv(te_path+'11.csv')\n",
    "te12 = pd.read_csv(te_path+'12.csv')\n",
    "te13 = pd.read_csv(te_path+'13.csv')\n",
    "te14 = pd.read_csv(te_path+'14.csv')\n",
    "te15 = pd.read_csv(te_path+'15.csv')\n",
    "te16 = pd.read_csv(te_path+'16.csv')\n",
    "te17 = pd.read_csv(te_path+'17.csv')"
   ]
  },
  {
   "cell_type": "markdown",
   "id": "f362ea11-f9f9-414e-a465-ef13d6278b0f",
   "metadata": {},
   "source": [
    "# Create list of weekly dataframes by position"
   ]
  },
  {
   "cell_type": "code",
   "execution_count": 8,
   "id": "ddd29b39-ad12-4d07-9e52-18cb246339b0",
   "metadata": {},
   "outputs": [],
   "source": [
    "qb_dfs = [qb1, qb2, qb3, qb4, qb5, qb6,\n",
    "          qb7, qb8, qb9, qb10, qb11, qb12,\n",
    "          qb13, qb14, qb15, qb16, qb17]\n",
    "\n",
    "rb_dfs = [rb1, rb2, rb3, rb4, rb5, rb6,\n",
    "          rb7, rb8, rb9, rb10, rb11, rb12,\n",
    "          rb13, rb14, rb15, rb16, rb17]\n",
    "\n",
    "wr_dfs = [wr1, wr2, wr3, wr4, wr5, wr6,\n",
    "          wr7, wr8, wr9, wr10, wr11, wr12,\n",
    "          wr13, wr14, wr15, wr16, wr17]\n",
    "\n",
    "te_dfs = [te1, te2, te3, te4, te5, te6,\n",
    "          te7, te8, te9, te10, te11, te12,\n",
    "          te13, te14, te15, te16, te17]"
   ]
  },
  {
   "cell_type": "markdown",
   "id": "758180ce-a3da-4875-a9dd-aca3bb8d48cd",
   "metadata": {},
   "source": [
    "# Add 'WK' column"
   ]
  },
  {
   "cell_type": "code",
   "execution_count": 9,
   "id": "1f636b47-22e5-4db5-a970-664b3023008c",
   "metadata": {},
   "outputs": [],
   "source": [
    "for i in range(len(qb_dfs)):\n",
    "    qb_dfs[i]['WK'] = i+1\n",
    "    rb_dfs[i]['WK'] = i+1\n",
    "    wr_dfs[i]['WK'] = i+1\n",
    "    te_dfs[i]['WK'] = i+1"
   ]
  },
  {
   "cell_type": "markdown",
   "id": "398d4b02-6ded-4846-9e6e-1b0f9a3237ee",
   "metadata": {},
   "source": [
    "# Create one dataframe per position"
   ]
  },
  {
   "cell_type": "code",
   "execution_count": 10,
   "id": "c974b897-6ef8-4c33-8a61-387d334c2a84",
   "metadata": {},
   "outputs": [],
   "source": [
    "qb = pd.concat(qb_dfs)\n",
    "rb = pd.concat(rb_dfs)\n",
    "wr = pd.concat(wr_dfs)\n",
    "te = pd.concat(te_dfs)"
   ]
  },
  {
   "cell_type": "markdown",
   "id": "f87e91ec-8c95-40dd-87ee-40ec90858344",
   "metadata": {
    "tags": []
   },
   "source": [
    "# Clean up dataframes"
   ]
  },
  {
   "cell_type": "markdown",
   "id": "3c56e32d-56c5-4bc0-949b-e016c8e3643d",
   "metadata": {},
   "source": [
    "## Drop rows with mostly NAs"
   ]
  },
  {
   "cell_type": "code",
   "execution_count": 11,
   "id": "36a00067-e82c-4642-af3c-5238817b60f9",
   "metadata": {},
   "outputs": [],
   "source": [
    "qb = qb.dropna()\n",
    "rb = rb.dropna()\n",
    "wr = wr.dropna()\n",
    "te = te.dropna()"
   ]
  },
  {
   "cell_type": "markdown",
   "id": "61b00dd0-9677-48a4-8aa2-1c4c84ee010b",
   "metadata": {},
   "source": [
    "## Drop unnecessary columns"
   ]
  },
  {
   "cell_type": "code",
   "execution_count": 12,
   "id": "d44612d0-f60c-422c-a996-1b63dafd99b6",
   "metadata": {},
   "outputs": [],
   "source": [
    "qb = qb.drop(['G', 'FPTS/G', 'ROST'], axis=1)\n",
    "rb = rb.drop(['G', 'FPTS/G', 'ROST'], axis=1)\n",
    "wr = wr.drop(['G', 'FPTS/G', 'ROST'], axis=1)\n",
    "te = te.drop(['G', 'FPTS/G', 'ROST'], axis=1)"
   ]
  },
  {
   "cell_type": "markdown",
   "id": "9a8c2c01-dc4f-4bc1-a7f6-66f3aad392d1",
   "metadata": {},
   "source": [
    "## Remove teams from player names"
   ]
  },
  {
   "cell_type": "code",
   "execution_count": 13,
   "id": "af9e176f-2ebc-41d9-af21-03837de2fa9e",
   "metadata": {},
   "outputs": [],
   "source": [
    "for i in range(len(qb)):\n",
    "    qb['Player'].iat[i] = qb['Player'].iat[i].split(' (', 1)[0]\n",
    "    \n",
    "for i in range(len(rb)):\n",
    "    rb['Player'].iat[i] = rb['Player'].iat[i].split(' (', 1)[0]\n",
    "    \n",
    "for i in range(len(wr)):\n",
    "    wr['Player'].iat[i] = wr['Player'].iat[i].split(' (', 1)[0]\n",
    "    \n",
    "for i in range(len(te)):\n",
    "    te['Player'].iat[i] = te['Player'].iat[i].split(' (', 1)[0]"
   ]
  },
  {
   "cell_type": "markdown",
   "id": "b138f081-968a-4d0f-b0ef-468a3a1759f6",
   "metadata": {},
   "source": [
    "## Add in 0 pts for players in weeks where they don't appear"
   ]
  },
  {
   "cell_type": "code",
   "execution_count": 14,
   "id": "884bee70-e75f-4845-9be6-ce4a6e716abc",
   "metadata": {},
   "outputs": [],
   "source": [
    "qb_players = qb['Player'].unique()\n",
    "rb_players = rb['Player'].unique()\n",
    "wr_players = wr['Player'].unique()\n",
    "te_players = te['Player'].unique()"
   ]
  },
  {
   "cell_type": "code",
   "execution_count": 15,
   "id": "bed487c2-8ba7-4ff4-a0d7-e7a2c05a5fef",
   "metadata": {},
   "outputs": [],
   "source": [
    "for i in range(n_weeks):\n",
    "    \n",
    "    # Insert rows for QBs missing weekly data\n",
    "    for qb_name in qb_players:\n",
    "        if i+1 not in pd.Series(qb[qb['Player'] == qb_name]['WK']).unique():\n",
    "            qb.loc[len(qb.index)] = [999, qb_name, 0, 0, 0, 0, 0, 0, 0, 0, 0, 0, 0, 0, 0, i+1]\n",
    "            \n",
    "    # Insert rows for RBs missing weekly data\n",
    "    for rb_name in rb_players:\n",
    "        if i+1 not in pd.Series(rb[rb['Player'] == rb_name]['WK']).unique():\n",
    "            rb.loc[len(rb.index)] = [999, rb_name, 0, 0, 0, 0, 0, 0, 0, 0, 0, 0, 0, 0, 0, i+1]\n",
    "\n",
    "    # Insert rows for WRs missing weekly data\n",
    "    for wr_name in wr_players:\n",
    "        if i+1 not in pd.Series(wr[wr['Player'] == wr_name]['WK']).unique():\n",
    "            wr.loc[len(wr.index)] = [999, rb_name, 0, 0, 0, 0, 0, 0, 0, 0, 0, 0, 0, 0, i+1]\n",
    "    \n",
    "    # Insert rows for TEs missing weekly data\n",
    "    for te_name in te_players:\n",
    "        if i+1 not in pd.Series(te[te['Player'] == te_name]['WK']).unique():\n",
    "            te.loc[len(te.index)] = [999, te_name, 0, 0, 0, 0, 0, 0, 0, 0, 0, 0, 0, 0, i+1]"
   ]
  },
  {
   "cell_type": "code",
   "execution_count": 16,
   "id": "d6c04912-30e0-421d-8ab6-5b2a2104a84e",
   "metadata": {},
   "outputs": [],
   "source": [
    "# Sort by week and then rank\n",
    "qb = qb.sort_values(['WK', 'Rank', 'Player'])\n",
    "rb = rb.sort_values(['WK', 'Rank', 'Player'])\n",
    "wr = wr.sort_values(['WK', 'Rank', 'Player'])\n",
    "te = te.sort_values(['WK', 'Rank', 'Player'])\n",
    "\n",
    "\n",
    "# Resetting indexes\n",
    "qb.reset_index(drop = True, inplace = True)\n",
    "rb.reset_index(drop = True, inplace = True)\n",
    "wr.reset_index(drop = True, inplace = True)\n",
    "te.reset_index(drop = True, inplace = True)"
   ]
  },
  {
   "cell_type": "code",
   "execution_count": 81,
   "id": "f3dd4ea5-7493-4752-b716-adf01f1267f3",
   "metadata": {},
   "outputs": [
    {
     "data": {
      "text/html": [
       "<div>\n",
       "<style scoped>\n",
       "    .dataframe tbody tr th:only-of-type {\n",
       "        vertical-align: middle;\n",
       "    }\n",
       "\n",
       "    .dataframe tbody tr th {\n",
       "        vertical-align: top;\n",
       "    }\n",
       "\n",
       "    .dataframe thead th {\n",
       "        text-align: right;\n",
       "    }\n",
       "</style>\n",
       "<table border=\"1\" class=\"dataframe\">\n",
       "  <thead>\n",
       "    <tr style=\"text-align: right;\">\n",
       "      <th></th>\n",
       "      <th>Rank</th>\n",
       "      <th>Player</th>\n",
       "      <th>ATT</th>\n",
       "      <th>YDS</th>\n",
       "      <th>Y/A</th>\n",
       "      <th>LG</th>\n",
       "      <th>20+</th>\n",
       "      <th>TD</th>\n",
       "      <th>REC</th>\n",
       "      <th>TGT</th>\n",
       "      <th>YDS.1</th>\n",
       "      <th>Y/R</th>\n",
       "      <th>TD.1</th>\n",
       "      <th>FL</th>\n",
       "      <th>FPTS</th>\n",
       "      <th>WK</th>\n",
       "    </tr>\n",
       "  </thead>\n",
       "  <tbody>\n",
       "    <tr>\n",
       "      <th>265</th>\n",
       "      <td>999.0</td>\n",
       "      <td>Phillip Lindsay</td>\n",
       "      <td>0.0</td>\n",
       "      <td>0.0</td>\n",
       "      <td>0.0</td>\n",
       "      <td>0.0</td>\n",
       "      <td>0.0</td>\n",
       "      <td>0.0</td>\n",
       "      <td>0.0</td>\n",
       "      <td>0.0</td>\n",
       "      <td>0.0</td>\n",
       "      <td>0.0</td>\n",
       "      <td>0.0</td>\n",
       "      <td>0.0</td>\n",
       "      <td>0.0</td>\n",
       "      <td>1</td>\n",
       "    </tr>\n",
       "    <tr>\n",
       "      <th>535</th>\n",
       "      <td>999.0</td>\n",
       "      <td>Phillip Lindsay</td>\n",
       "      <td>0.0</td>\n",
       "      <td>0.0</td>\n",
       "      <td>0.0</td>\n",
       "      <td>0.0</td>\n",
       "      <td>0.0</td>\n",
       "      <td>0.0</td>\n",
       "      <td>0.0</td>\n",
       "      <td>0.0</td>\n",
       "      <td>0.0</td>\n",
       "      <td>0.0</td>\n",
       "      <td>0.0</td>\n",
       "      <td>0.0</td>\n",
       "      <td>0.0</td>\n",
       "      <td>2</td>\n",
       "    </tr>\n",
       "    <tr>\n",
       "      <th>803</th>\n",
       "      <td>999.0</td>\n",
       "      <td>Phillip Lindsay</td>\n",
       "      <td>0.0</td>\n",
       "      <td>0.0</td>\n",
       "      <td>0.0</td>\n",
       "      <td>0.0</td>\n",
       "      <td>0.0</td>\n",
       "      <td>0.0</td>\n",
       "      <td>0.0</td>\n",
       "      <td>0.0</td>\n",
       "      <td>0.0</td>\n",
       "      <td>0.0</td>\n",
       "      <td>0.0</td>\n",
       "      <td>0.0</td>\n",
       "      <td>0.0</td>\n",
       "      <td>3</td>\n",
       "    </tr>\n",
       "    <tr>\n",
       "      <th>1074</th>\n",
       "      <td>999.0</td>\n",
       "      <td>Phillip Lindsay</td>\n",
       "      <td>0.0</td>\n",
       "      <td>0.0</td>\n",
       "      <td>0.0</td>\n",
       "      <td>0.0</td>\n",
       "      <td>0.0</td>\n",
       "      <td>0.0</td>\n",
       "      <td>0.0</td>\n",
       "      <td>0.0</td>\n",
       "      <td>0.0</td>\n",
       "      <td>0.0</td>\n",
       "      <td>0.0</td>\n",
       "      <td>0.0</td>\n",
       "      <td>0.0</td>\n",
       "      <td>4</td>\n",
       "    </tr>\n",
       "    <tr>\n",
       "      <th>1117</th>\n",
       "      <td>38.0</td>\n",
       "      <td>Phillip Lindsay</td>\n",
       "      <td>11.0</td>\n",
       "      <td>40.0</td>\n",
       "      <td>3.6</td>\n",
       "      <td>15.0</td>\n",
       "      <td>0.0</td>\n",
       "      <td>0.0</td>\n",
       "      <td>3.0</td>\n",
       "      <td>4.0</td>\n",
       "      <td>14.0</td>\n",
       "      <td>4.7</td>\n",
       "      <td>0.0</td>\n",
       "      <td>0.0</td>\n",
       "      <td>6.9</td>\n",
       "      <td>5</td>\n",
       "    </tr>\n",
       "    <tr>\n",
       "      <th>1387</th>\n",
       "      <td>38.0</td>\n",
       "      <td>Phillip Lindsay</td>\n",
       "      <td>3.0</td>\n",
       "      <td>7.0</td>\n",
       "      <td>2.3</td>\n",
       "      <td>3.0</td>\n",
       "      <td>0.0</td>\n",
       "      <td>0.0</td>\n",
       "      <td>3.0</td>\n",
       "      <td>3.0</td>\n",
       "      <td>5.0</td>\n",
       "      <td>1.7</td>\n",
       "      <td>0.0</td>\n",
       "      <td>0.0</td>\n",
       "      <td>4.7</td>\n",
       "      <td>6</td>\n",
       "    </tr>\n",
       "    <tr>\n",
       "      <th>1885</th>\n",
       "      <td>999.0</td>\n",
       "      <td>Phillip Lindsay</td>\n",
       "      <td>0.0</td>\n",
       "      <td>0.0</td>\n",
       "      <td>0.0</td>\n",
       "      <td>0.0</td>\n",
       "      <td>0.0</td>\n",
       "      <td>0.0</td>\n",
       "      <td>0.0</td>\n",
       "      <td>0.0</td>\n",
       "      <td>0.0</td>\n",
       "      <td>0.0</td>\n",
       "      <td>0.0</td>\n",
       "      <td>0.0</td>\n",
       "      <td>0.0</td>\n",
       "      <td>7</td>\n",
       "    </tr>\n",
       "    <tr>\n",
       "      <th>2154</th>\n",
       "      <td>999.0</td>\n",
       "      <td>Phillip Lindsay</td>\n",
       "      <td>0.0</td>\n",
       "      <td>0.0</td>\n",
       "      <td>0.0</td>\n",
       "      <td>0.0</td>\n",
       "      <td>0.0</td>\n",
       "      <td>0.0</td>\n",
       "      <td>0.0</td>\n",
       "      <td>0.0</td>\n",
       "      <td>0.0</td>\n",
       "      <td>0.0</td>\n",
       "      <td>0.0</td>\n",
       "      <td>0.0</td>\n",
       "      <td>0.0</td>\n",
       "      <td>8</td>\n",
       "    </tr>\n",
       "    <tr>\n",
       "      <th>2231</th>\n",
       "      <td>71.0</td>\n",
       "      <td>Phillip Lindsay</td>\n",
       "      <td>1.0</td>\n",
       "      <td>2.0</td>\n",
       "      <td>2.0</td>\n",
       "      <td>2.0</td>\n",
       "      <td>0.0</td>\n",
       "      <td>0.0</td>\n",
       "      <td>0.0</td>\n",
       "      <td>1.0</td>\n",
       "      <td>0.0</td>\n",
       "      <td>0.0</td>\n",
       "      <td>0.0</td>\n",
       "      <td>0.0</td>\n",
       "      <td>0.2</td>\n",
       "      <td>9</td>\n",
       "    </tr>\n",
       "    <tr>\n",
       "      <th>2695</th>\n",
       "      <td>999.0</td>\n",
       "      <td>Phillip Lindsay</td>\n",
       "      <td>0.0</td>\n",
       "      <td>0.0</td>\n",
       "      <td>0.0</td>\n",
       "      <td>0.0</td>\n",
       "      <td>0.0</td>\n",
       "      <td>0.0</td>\n",
       "      <td>0.0</td>\n",
       "      <td>0.0</td>\n",
       "      <td>0.0</td>\n",
       "      <td>0.0</td>\n",
       "      <td>0.0</td>\n",
       "      <td>0.0</td>\n",
       "      <td>0.0</td>\n",
       "      <td>10</td>\n",
       "    </tr>\n",
       "    <tr>\n",
       "      <th>2964</th>\n",
       "      <td>999.0</td>\n",
       "      <td>Phillip Lindsay</td>\n",
       "      <td>0.0</td>\n",
       "      <td>0.0</td>\n",
       "      <td>0.0</td>\n",
       "      <td>0.0</td>\n",
       "      <td>0.0</td>\n",
       "      <td>0.0</td>\n",
       "      <td>0.0</td>\n",
       "      <td>0.0</td>\n",
       "      <td>0.0</td>\n",
       "      <td>0.0</td>\n",
       "      <td>0.0</td>\n",
       "      <td>0.0</td>\n",
       "      <td>0.0</td>\n",
       "      <td>11</td>\n",
       "    </tr>\n",
       "    <tr>\n",
       "      <th>3235</th>\n",
       "      <td>999.0</td>\n",
       "      <td>Phillip Lindsay</td>\n",
       "      <td>0.0</td>\n",
       "      <td>0.0</td>\n",
       "      <td>0.0</td>\n",
       "      <td>0.0</td>\n",
       "      <td>0.0</td>\n",
       "      <td>0.0</td>\n",
       "      <td>0.0</td>\n",
       "      <td>0.0</td>\n",
       "      <td>0.0</td>\n",
       "      <td>0.0</td>\n",
       "      <td>0.0</td>\n",
       "      <td>0.0</td>\n",
       "      <td>0.0</td>\n",
       "      <td>12</td>\n",
       "    </tr>\n",
       "    <tr>\n",
       "      <th>3503</th>\n",
       "      <td>999.0</td>\n",
       "      <td>Phillip Lindsay</td>\n",
       "      <td>0.0</td>\n",
       "      <td>0.0</td>\n",
       "      <td>0.0</td>\n",
       "      <td>0.0</td>\n",
       "      <td>0.0</td>\n",
       "      <td>0.0</td>\n",
       "      <td>0.0</td>\n",
       "      <td>0.0</td>\n",
       "      <td>0.0</td>\n",
       "      <td>0.0</td>\n",
       "      <td>0.0</td>\n",
       "      <td>0.0</td>\n",
       "      <td>0.0</td>\n",
       "      <td>13</td>\n",
       "    </tr>\n",
       "    <tr>\n",
       "      <th>3774</th>\n",
       "      <td>999.0</td>\n",
       "      <td>Phillip Lindsay</td>\n",
       "      <td>0.0</td>\n",
       "      <td>0.0</td>\n",
       "      <td>0.0</td>\n",
       "      <td>0.0</td>\n",
       "      <td>0.0</td>\n",
       "      <td>0.0</td>\n",
       "      <td>0.0</td>\n",
       "      <td>0.0</td>\n",
       "      <td>0.0</td>\n",
       "      <td>0.0</td>\n",
       "      <td>0.0</td>\n",
       "      <td>0.0</td>\n",
       "      <td>0.0</td>\n",
       "      <td>14</td>\n",
       "    </tr>\n",
       "    <tr>\n",
       "      <th>4046</th>\n",
       "      <td>999.0</td>\n",
       "      <td>Phillip Lindsay</td>\n",
       "      <td>0.0</td>\n",
       "      <td>0.0</td>\n",
       "      <td>0.0</td>\n",
       "      <td>0.0</td>\n",
       "      <td>0.0</td>\n",
       "      <td>0.0</td>\n",
       "      <td>0.0</td>\n",
       "      <td>0.0</td>\n",
       "      <td>0.0</td>\n",
       "      <td>0.0</td>\n",
       "      <td>0.0</td>\n",
       "      <td>0.0</td>\n",
       "      <td>0.0</td>\n",
       "      <td>15</td>\n",
       "    </tr>\n",
       "    <tr>\n",
       "      <th>4316</th>\n",
       "      <td>999.0</td>\n",
       "      <td>Phillip Lindsay</td>\n",
       "      <td>0.0</td>\n",
       "      <td>0.0</td>\n",
       "      <td>0.0</td>\n",
       "      <td>0.0</td>\n",
       "      <td>0.0</td>\n",
       "      <td>0.0</td>\n",
       "      <td>0.0</td>\n",
       "      <td>0.0</td>\n",
       "      <td>0.0</td>\n",
       "      <td>0.0</td>\n",
       "      <td>0.0</td>\n",
       "      <td>0.0</td>\n",
       "      <td>0.0</td>\n",
       "      <td>16</td>\n",
       "    </tr>\n",
       "    <tr>\n",
       "      <th>4586</th>\n",
       "      <td>999.0</td>\n",
       "      <td>Phillip Lindsay</td>\n",
       "      <td>0.0</td>\n",
       "      <td>0.0</td>\n",
       "      <td>0.0</td>\n",
       "      <td>0.0</td>\n",
       "      <td>0.0</td>\n",
       "      <td>0.0</td>\n",
       "      <td>0.0</td>\n",
       "      <td>0.0</td>\n",
       "      <td>0.0</td>\n",
       "      <td>0.0</td>\n",
       "      <td>0.0</td>\n",
       "      <td>0.0</td>\n",
       "      <td>0.0</td>\n",
       "      <td>17</td>\n",
       "    </tr>\n",
       "  </tbody>\n",
       "</table>\n",
       "</div>"
      ],
      "text/plain": [
       "       Rank           Player   ATT   YDS  Y/A    LG  20+   TD  REC  TGT  \\\n",
       "265   999.0  Phillip Lindsay   0.0   0.0  0.0   0.0  0.0  0.0  0.0  0.0   \n",
       "535   999.0  Phillip Lindsay   0.0   0.0  0.0   0.0  0.0  0.0  0.0  0.0   \n",
       "803   999.0  Phillip Lindsay   0.0   0.0  0.0   0.0  0.0  0.0  0.0  0.0   \n",
       "1074  999.0  Phillip Lindsay   0.0   0.0  0.0   0.0  0.0  0.0  0.0  0.0   \n",
       "1117   38.0  Phillip Lindsay  11.0  40.0  3.6  15.0  0.0  0.0  3.0  4.0   \n",
       "1387   38.0  Phillip Lindsay   3.0   7.0  2.3   3.0  0.0  0.0  3.0  3.0   \n",
       "1885  999.0  Phillip Lindsay   0.0   0.0  0.0   0.0  0.0  0.0  0.0  0.0   \n",
       "2154  999.0  Phillip Lindsay   0.0   0.0  0.0   0.0  0.0  0.0  0.0  0.0   \n",
       "2231   71.0  Phillip Lindsay   1.0   2.0  2.0   2.0  0.0  0.0  0.0  1.0   \n",
       "2695  999.0  Phillip Lindsay   0.0   0.0  0.0   0.0  0.0  0.0  0.0  0.0   \n",
       "2964  999.0  Phillip Lindsay   0.0   0.0  0.0   0.0  0.0  0.0  0.0  0.0   \n",
       "3235  999.0  Phillip Lindsay   0.0   0.0  0.0   0.0  0.0  0.0  0.0  0.0   \n",
       "3503  999.0  Phillip Lindsay   0.0   0.0  0.0   0.0  0.0  0.0  0.0  0.0   \n",
       "3774  999.0  Phillip Lindsay   0.0   0.0  0.0   0.0  0.0  0.0  0.0  0.0   \n",
       "4046  999.0  Phillip Lindsay   0.0   0.0  0.0   0.0  0.0  0.0  0.0  0.0   \n",
       "4316  999.0  Phillip Lindsay   0.0   0.0  0.0   0.0  0.0  0.0  0.0  0.0   \n",
       "4586  999.0  Phillip Lindsay   0.0   0.0  0.0   0.0  0.0  0.0  0.0  0.0   \n",
       "\n",
       "      YDS.1  Y/R  TD.1   FL  FPTS  WK  \n",
       "265     0.0  0.0   0.0  0.0   0.0   1  \n",
       "535     0.0  0.0   0.0  0.0   0.0   2  \n",
       "803     0.0  0.0   0.0  0.0   0.0   3  \n",
       "1074    0.0  0.0   0.0  0.0   0.0   4  \n",
       "1117   14.0  4.7   0.0  0.0   6.9   5  \n",
       "1387    5.0  1.7   0.0  0.0   4.7   6  \n",
       "1885    0.0  0.0   0.0  0.0   0.0   7  \n",
       "2154    0.0  0.0   0.0  0.0   0.0   8  \n",
       "2231    0.0  0.0   0.0  0.0   0.2   9  \n",
       "2695    0.0  0.0   0.0  0.0   0.0  10  \n",
       "2964    0.0  0.0   0.0  0.0   0.0  11  \n",
       "3235    0.0  0.0   0.0  0.0   0.0  12  \n",
       "3503    0.0  0.0   0.0  0.0   0.0  13  \n",
       "3774    0.0  0.0   0.0  0.0   0.0  14  \n",
       "4046    0.0  0.0   0.0  0.0   0.0  15  \n",
       "4316    0.0  0.0   0.0  0.0   0.0  16  \n",
       "4586    0.0  0.0   0.0  0.0   0.0  17  "
      ]
     },
     "execution_count": 81,
     "metadata": {},
     "output_type": "execute_result"
    }
   ],
   "source": [
    "rb[rb['Player'] == 'Phillip Lindsay']"
   ]
  },
  {
   "cell_type": "code",
   "execution_count": 82,
   "id": "6e381891-1424-407e-8964-e946b5d400d4",
   "metadata": {},
   "outputs": [
    {
     "data": {
      "text/plain": [
       "5.348579991211994"
      ]
     },
     "execution_count": 82,
     "metadata": {},
     "output_type": "execute_result"
    }
   ],
   "source": [
    "calculate_player_exp_wins('Phillip Lindsay', 'RB')"
   ]
  },
  {
   "cell_type": "markdown",
   "id": "4dc4d307-a70d-45e1-b71a-e47c0bc64b94",
   "metadata": {},
   "source": [
    "# WAR"
   ]
  },
  {
   "cell_type": "markdown",
   "id": "ccda3a67-6535-4a31-b21c-0104e76f08b2",
   "metadata": {},
   "source": [
    "WAR stands for \"Wins Above Replacement.\" The idea is to determine how many more/fewer wins a player contributed to their team relative to a replacement-level player. To do this, we need to figure out the following info:\n",
    "1. Average weekly score in my league\n",
    "2. Average team score standard deviation\n",
    "3. Calculate replacement-level player for each position\n",
    "4. Determine each player's WAR"
   ]
  },
  {
   "cell_type": "markdown",
   "id": "5152a0ab-06af-470d-a33c-124ca8cfaa95",
   "metadata": {
    "tags": []
   },
   "source": [
    "## Average score and standard deviation"
   ]
  },
  {
   "cell_type": "code",
   "execution_count": 17,
   "id": "96c195d7-dc25-4c8b-959a-7d3aa8e453f2",
   "metadata": {},
   "outputs": [
    {
     "data": {
      "text/html": [
       "<div>\n",
       "<style scoped>\n",
       "    .dataframe tbody tr th:only-of-type {\n",
       "        vertical-align: middle;\n",
       "    }\n",
       "\n",
       "    .dataframe tbody tr th {\n",
       "        vertical-align: top;\n",
       "    }\n",
       "\n",
       "    .dataframe thead th {\n",
       "        text-align: right;\n",
       "    }\n",
       "</style>\n",
       "<table border=\"1\" class=\"dataframe\">\n",
       "  <thead>\n",
       "    <tr style=\"text-align: right;\">\n",
       "      <th></th>\n",
       "      <th>Week</th>\n",
       "      <th>HomeManagerID</th>\n",
       "      <th>HomeScore</th>\n",
       "      <th>AwayManagerID</th>\n",
       "      <th>AwayScore</th>\n",
       "    </tr>\n",
       "  </thead>\n",
       "  <tbody>\n",
       "    <tr>\n",
       "      <th>0</th>\n",
       "      <td>1</td>\n",
       "      <td>11</td>\n",
       "      <td>113.00</td>\n",
       "      <td>10</td>\n",
       "      <td>94.82</td>\n",
       "    </tr>\n",
       "    <tr>\n",
       "      <th>1</th>\n",
       "      <td>1</td>\n",
       "      <td>6</td>\n",
       "      <td>135.82</td>\n",
       "      <td>5</td>\n",
       "      <td>114.66</td>\n",
       "    </tr>\n",
       "    <tr>\n",
       "      <th>2</th>\n",
       "      <td>1</td>\n",
       "      <td>7</td>\n",
       "      <td>50.26</td>\n",
       "      <td>2</td>\n",
       "      <td>114.66</td>\n",
       "    </tr>\n",
       "    <tr>\n",
       "      <th>3</th>\n",
       "      <td>1</td>\n",
       "      <td>8</td>\n",
       "      <td>83.30</td>\n",
       "      <td>12</td>\n",
       "      <td>119.40</td>\n",
       "    </tr>\n",
       "    <tr>\n",
       "      <th>4</th>\n",
       "      <td>1</td>\n",
       "      <td>1</td>\n",
       "      <td>96.12</td>\n",
       "      <td>9</td>\n",
       "      <td>127.18</td>\n",
       "    </tr>\n",
       "  </tbody>\n",
       "</table>\n",
       "</div>"
      ],
      "text/plain": [
       "   Week  HomeManagerID  HomeScore  AwayManagerID  AwayScore\n",
       "0     1             11     113.00             10      94.82\n",
       "1     1              6     135.82              5     114.66\n",
       "2     1              7      50.26              2     114.66\n",
       "3     1              8      83.30             12     119.40\n",
       "4     1              1      96.12              9     127.18"
      ]
     },
     "execution_count": 17,
     "metadata": {},
     "output_type": "execute_result"
    }
   ],
   "source": [
    "weekly_scores = pd.read_csv('C:\\\\Users\\\\Lenovo\\\\OneDrive\\\\Desktop\\\\fantasy_football\\\\2023\\\\LeagueScores.csv')\n",
    "weekly_scores.head()"
   ]
  },
  {
   "cell_type": "code",
   "execution_count": 18,
   "id": "dee70147-e8b0-4f1c-b692-8f92ea738645",
   "metadata": {},
   "outputs": [],
   "source": [
    "home_scores = weekly_scores[['Week', 'HomeScore']].copy()\n",
    "home_scores = home_scores.rename({'HomeScore': 'Score'}, axis=1)\n",
    "\n",
    "away_scores = weekly_scores[['Week', 'AwayScore']].copy()\n",
    "away_scores = away_scores.rename({'AwayScore': 'Score'}, axis=1)\n",
    "\n",
    "all_scores = pd.concat([home_scores, away_scores])"
   ]
  },
  {
   "cell_type": "code",
   "execution_count": 19,
   "id": "ce11bb5f-aeb1-4919-85bb-3bcef4fbc048",
   "metadata": {},
   "outputs": [
    {
     "data": {
      "text/html": [
       "<div>\n",
       "<style scoped>\n",
       "    .dataframe tbody tr th:only-of-type {\n",
       "        vertical-align: middle;\n",
       "    }\n",
       "\n",
       "    .dataframe tbody tr th {\n",
       "        vertical-align: top;\n",
       "    }\n",
       "\n",
       "    .dataframe thead th {\n",
       "        text-align: right;\n",
       "    }\n",
       "</style>\n",
       "<table border=\"1\" class=\"dataframe\">\n",
       "  <thead>\n",
       "    <tr style=\"text-align: right;\">\n",
       "      <th></th>\n",
       "      <th>Week</th>\n",
       "      <th>Score</th>\n",
       "    </tr>\n",
       "  </thead>\n",
       "  <tbody>\n",
       "    <tr>\n",
       "      <th>0</th>\n",
       "      <td>1</td>\n",
       "      <td>113.00</td>\n",
       "    </tr>\n",
       "    <tr>\n",
       "      <th>1</th>\n",
       "      <td>1</td>\n",
       "      <td>135.82</td>\n",
       "    </tr>\n",
       "    <tr>\n",
       "      <th>2</th>\n",
       "      <td>1</td>\n",
       "      <td>50.26</td>\n",
       "    </tr>\n",
       "    <tr>\n",
       "      <th>3</th>\n",
       "      <td>1</td>\n",
       "      <td>83.30</td>\n",
       "    </tr>\n",
       "    <tr>\n",
       "      <th>4</th>\n",
       "      <td>1</td>\n",
       "      <td>96.12</td>\n",
       "    </tr>\n",
       "  </tbody>\n",
       "</table>\n",
       "</div>"
      ],
      "text/plain": [
       "   Week   Score\n",
       "0     1  113.00\n",
       "1     1  135.82\n",
       "2     1   50.26\n",
       "3     1   83.30\n",
       "4     1   96.12"
      ]
     },
     "execution_count": 19,
     "metadata": {},
     "output_type": "execute_result"
    }
   ],
   "source": [
    "all_scores.head()"
   ]
  },
  {
   "cell_type": "code",
   "execution_count": 20,
   "id": "e5b3c854-af91-428a-987b-661265ce9579",
   "metadata": {},
   "outputs": [],
   "source": [
    "weekly_avg = np.zeros(n_weeks)\n",
    "weekly_std = np.zeros(n_weeks)\n",
    "\n",
    "for i in range(n_weeks):\n",
    "    weekly_avg[i] = all_scores[all_scores['Week'] == i+1]['Score'].mean()\n",
    "    weekly_std[i] = all_scores[all_scores['Week'] == i+1]['Score'].std()"
   ]
  },
  {
   "cell_type": "code",
   "execution_count": 21,
   "id": "e6b40229-cf58-46fd-813b-023d277ff43a",
   "metadata": {},
   "outputs": [
    {
     "data": {
      "text/plain": [
       "array([104.86166667, 107.425     ,  95.95333333, 106.32      ,\n",
       "       103.08333333,  95.64      ,  94.44833333, 118.57333333,\n",
       "       102.00166667,  97.34833333, 103.84666667, 108.20666667,\n",
       "       106.225     ,  99.81      , 107.73166667,  96.79166667,\n",
       "        94.91666667])"
      ]
     },
     "execution_count": 21,
     "metadata": {},
     "output_type": "execute_result"
    }
   ],
   "source": [
    "weekly_avg"
   ]
  },
  {
   "cell_type": "code",
   "execution_count": 22,
   "id": "80304019-7df1-48d7-86f8-ad6a5f859323",
   "metadata": {},
   "outputs": [
    {
     "data": {
      "text/plain": [
       "array([23.88392606, 18.78185609, 16.01476667, 22.17908105, 23.36104735,\n",
       "       23.75194078, 33.56761476, 24.00381535, 24.36761406, 21.30836534,\n",
       "       28.73462825, 16.7278523 , 19.91837   , 16.79125422, 17.44121651,\n",
       "       22.27822983, 22.2762488 ])"
      ]
     },
     "execution_count": 22,
     "metadata": {},
     "output_type": "execute_result"
    }
   ],
   "source": [
    "weekly_std"
   ]
  },
  {
   "cell_type": "markdown",
   "id": "dbf58caf-335c-4f46-a8b5-4dfa6773e14b",
   "metadata": {},
   "source": [
    "## Weekly replacement-level player by position"
   ]
  },
  {
   "cell_type": "markdown",
   "id": "413824c7-97be-430c-b7bf-75a10a4ec61f",
   "metadata": {},
   "source": [
    "### QB"
   ]
  },
  {
   "cell_type": "code",
   "execution_count": 23,
   "id": "5f25e99a-d5dc-4a15-b9c4-337e31540daf",
   "metadata": {},
   "outputs": [],
   "source": [
    "qb_replacements = qb[(qb['Rank'] > n_teams) & (qb['Rank'] <= n_teams*2)]\n",
    "qb_starters = qb[qb['Rank'] <= n_teams]"
   ]
  },
  {
   "cell_type": "code",
   "execution_count": 24,
   "id": "0173165e-1a43-4ed1-b994-41f5bed22e8a",
   "metadata": {},
   "outputs": [],
   "source": [
    "qb_rep_score = np.zeros(n_weeks)\n",
    "\n",
    "for i in range(n_weeks):\n",
    "    qb_rep_score[i] = qb_replacements[qb_replacements['WK'] == i+1]['FPTS'].mean()"
   ]
  },
  {
   "cell_type": "code",
   "execution_count": 25,
   "id": "a18a4517-4752-4ead-80cd-2f18ded866f0",
   "metadata": {},
   "outputs": [
    {
     "data": {
      "text/plain": [
       "array([16.275     , 14.75833333, 14.675     , 15.13333333, 13.825     ,\n",
       "       12.625     , 12.425     , 16.03333333, 12.54166667, 16.20833333,\n",
       "       12.83333333, 15.41666667, 14.65833333, 12.85      , 13.85      ,\n",
       "       13.05      , 12.46666667])"
      ]
     },
     "execution_count": 25,
     "metadata": {},
     "output_type": "execute_result"
    }
   ],
   "source": [
    "qb_rep_score"
   ]
  },
  {
   "cell_type": "code",
   "execution_count": 26,
   "id": "ff6f11dc-5efa-4055-8f43-ff9f52fc6f7e",
   "metadata": {},
   "outputs": [],
   "source": [
    "qb_exp_score = np.zeros(n_weeks)\n",
    "\n",
    "for i in range(n_weeks):\n",
    "    qb_exp_score[i] = qb_starters[qb_starters['WK'] == i+1]['FPTS'].mean()"
   ]
  },
  {
   "cell_type": "code",
   "execution_count": 27,
   "id": "3f6e74e1-797a-4b06-862b-d5f761435a22",
   "metadata": {},
   "outputs": [
    {
     "data": {
      "text/plain": [
       "array([24.16666667, 28.225     , 23.05      , 24.41666667, 22.8       ,\n",
       "       22.26666667, 22.7       , 24.05833333, 23.21666667, 23.525     ,\n",
       "       23.76666667, 24.76666667, 21.60833333, 23.90833333, 26.43333333,\n",
       "       22.9       , 24.04166667])"
      ]
     },
     "execution_count": 27,
     "metadata": {},
     "output_type": "execute_result"
    }
   ],
   "source": [
    "qb_exp_score"
   ]
  },
  {
   "cell_type": "markdown",
   "id": "e7e6a5f8-7c49-4259-942e-7a34284916e8",
   "metadata": {},
   "source": [
    "### RB"
   ]
  },
  {
   "cell_type": "code",
   "execution_count": 28,
   "id": "5ebe7b3a-04d0-423a-ac6a-4ece9fa07a2c",
   "metadata": {},
   "outputs": [],
   "source": [
    "rb_replacements = rb[(rb['Rank'] > n_teams*2) & (rb['Rank'] <= n_teams*4)]\n",
    "rb_starters = rb[rb['Rank'] <= n_teams*2]"
   ]
  },
  {
   "cell_type": "code",
   "execution_count": 29,
   "id": "0b3cbf27-0114-48fc-bc84-f0ecad863712",
   "metadata": {},
   "outputs": [],
   "source": [
    "rb_rep_score = np.zeros(n_weeks)\n",
    "\n",
    "for i in range(n_weeks):\n",
    "    rb_rep_score[i] = rb_replacements[rb_replacements['WK'] == i+1]['FPTS'].mean()"
   ]
  },
  {
   "cell_type": "code",
   "execution_count": 30,
   "id": "b61cc3b2-dded-48a9-a88b-b361d2bf198a",
   "metadata": {},
   "outputs": [
    {
     "data": {
      "text/plain": [
       "array([7.6875    , 6.61666667, 7.03333333, 7.61666667, 7.62916667,\n",
       "       4.78333333, 6.65416667, 7.45416667, 4.28333333, 5.89166667,\n",
       "       5.41666667, 7.94166667, 6.775     , 4.9375    , 8.05833333,\n",
       "       6.1875    , 6.9125    ])"
      ]
     },
     "execution_count": 30,
     "metadata": {},
     "output_type": "execute_result"
    }
   ],
   "source": [
    "rb_rep_score"
   ]
  },
  {
   "cell_type": "code",
   "execution_count": 31,
   "id": "47988e09-9c49-418b-865a-535eda7b892f",
   "metadata": {},
   "outputs": [],
   "source": [
    "rb_exp_score = np.zeros(n_weeks)\n",
    "\n",
    "for i in range(n_weeks):\n",
    "    rb_exp_score[i] = rb_starters[rb_starters['WK'] == i+1]['FPTS'].mean()"
   ]
  },
  {
   "cell_type": "code",
   "execution_count": 32,
   "id": "043c1a4f-0c65-43b2-8f38-5f44beb00a70",
   "metadata": {},
   "outputs": [
    {
     "data": {
      "text/plain": [
       "array([17.04583333, 13.67916667, 16.01666667, 18.62083333, 19.92083333,\n",
       "       14.77916667, 18.14583333, 20.01666667, 16.17083333, 15.7875    ,\n",
       "       16.14583333, 17.575     , 15.25833333, 15.9875    , 17.7125    ,\n",
       "       16.13333333, 16.25      ])"
      ]
     },
     "execution_count": 32,
     "metadata": {},
     "output_type": "execute_result"
    }
   ],
   "source": [
    "rb_exp_score"
   ]
  },
  {
   "cell_type": "markdown",
   "id": "7c051456-c0e7-40a3-ad4c-e6405b335721",
   "metadata": {},
   "source": [
    "### WR"
   ]
  },
  {
   "cell_type": "code",
   "execution_count": 33,
   "id": "eabd97bb-faee-4d5a-9c5e-587d92f40b20",
   "metadata": {},
   "outputs": [],
   "source": [
    "wr_replacements = wr[(wr['Rank'] > n_teams*2) & (wr['Rank'] <= n_teams*4)]\n",
    "wr_starters = wr[wr['Rank'] <= n_teams*2]"
   ]
  },
  {
   "cell_type": "code",
   "execution_count": 34,
   "id": "8b3c6fca-a59f-4e6a-9955-0451b3289a3b",
   "metadata": {},
   "outputs": [],
   "source": [
    "wr_rep_score = np.zeros(n_weeks)\n",
    "\n",
    "for i in range(n_weeks):\n",
    "    wr_rep_score[i] = wr_replacements[wr_replacements['WK'] == i+1]['FPTS'].mean()"
   ]
  },
  {
   "cell_type": "code",
   "execution_count": 35,
   "id": "2904b431-4754-41a6-b177-e3ea30e7cc81",
   "metadata": {},
   "outputs": [
    {
     "data": {
      "text/plain": [
       "array([ 9.75833333, 10.0875    , 10.64166667,  8.65833333,  8.74583333,\n",
       "        8.61666667,  8.6375    ,  9.35416667,  5.7125    ,  9.52083333,\n",
       "        8.65833333,  9.77916667,  9.27916667,  9.09583333,  9.54583333,\n",
       "        8.96666667,  6.70833333])"
      ]
     },
     "execution_count": 35,
     "metadata": {},
     "output_type": "execute_result"
    }
   ],
   "source": [
    "wr_rep_score"
   ]
  },
  {
   "cell_type": "code",
   "execution_count": 36,
   "id": "b062dd33-6ab4-4948-8b13-b04624c377b0",
   "metadata": {},
   "outputs": [],
   "source": [
    "wr_exp_score = np.zeros(n_weeks)\n",
    "\n",
    "for i in range(n_weeks):\n",
    "    wr_exp_score[i] = wr_starters[wr_starters['WK'] == i+1]['FPTS'].mean()"
   ]
  },
  {
   "cell_type": "code",
   "execution_count": 37,
   "id": "c154a307-472c-416b-afe0-96d50ad11da2",
   "metadata": {},
   "outputs": [
    {
     "data": {
      "text/plain": [
       "array([18.5375    , 21.12916667, 17.35      , 16.83333333, 17.1375    ,\n",
       "       16.86666667, 16.31666667, 18.20416667, 15.4       , 18.5375    ,\n",
       "       16.12916667, 17.37916667, 18.77916667, 17.        , 17.39166667,\n",
       "       17.39583333, 16.77916667])"
      ]
     },
     "execution_count": 37,
     "metadata": {},
     "output_type": "execute_result"
    }
   ],
   "source": [
    "wr_exp_score"
   ]
  },
  {
   "cell_type": "markdown",
   "id": "6b2d09a5-046b-4b7b-9214-2f4a1e6be19d",
   "metadata": {},
   "source": [
    "### TE"
   ]
  },
  {
   "cell_type": "code",
   "execution_count": 38,
   "id": "938f77c7-ab37-4c2c-9580-2fd68098da74",
   "metadata": {},
   "outputs": [],
   "source": [
    "te_replacements = te[(te['Rank'] > n_teams) & (te['Rank'] <= n_teams*2)]\n",
    "te_starters = te[te['Rank'] <= n_teams]"
   ]
  },
  {
   "cell_type": "code",
   "execution_count": 39,
   "id": "6326d0a3-c9a1-42e0-ad59-c27a14735e3d",
   "metadata": {},
   "outputs": [],
   "source": [
    "te_rep_score = np.zeros(n_weeks)\n",
    "\n",
    "for i in range(n_weeks):\n",
    "    te_rep_score[i] = te_replacements[te_replacements['WK'] == i+1]['FPTS'].mean()"
   ]
  },
  {
   "cell_type": "code",
   "execution_count": 40,
   "id": "15b5ec94-0011-41d7-b72e-839d95389a5a",
   "metadata": {},
   "outputs": [
    {
     "data": {
      "text/plain": [
       "array([6.225     , 6.11666667, 6.03333333, 6.34166667, 6.04166667,\n",
       "       6.93333333, 6.11666667, 6.5       , 5.25833333, 5.025     ,\n",
       "       4.41666667, 5.95833333, 4.68333333, 3.78333333, 7.19166667,\n",
       "       6.31666667, 8.4       ])"
      ]
     },
     "execution_count": 40,
     "metadata": {},
     "output_type": "execute_result"
    }
   ],
   "source": [
    "te_rep_score"
   ]
  },
  {
   "cell_type": "code",
   "execution_count": 41,
   "id": "e24b0d55-26b4-4c0e-8306-7fed0f0794a2",
   "metadata": {},
   "outputs": [],
   "source": [
    "te_exp_score = np.zeros(n_weeks)\n",
    "\n",
    "for i in range(n_weeks):\n",
    "    te_exp_score[i] = te_starters[te_starters['WK'] == i+1]['FPTS'].mean()"
   ]
  },
  {
   "cell_type": "code",
   "execution_count": 42,
   "id": "b150cfb1-b0c7-4a89-b607-d95b8abd4d6a",
   "metadata": {},
   "outputs": [
    {
     "data": {
      "text/plain": [
       "array([12.25      , 11.89166667, 13.04166667, 15.33333333, 14.61666667,\n",
       "       13.725     , 11.05833333, 12.65      , 12.34166667, 11.59166667,\n",
       "       12.63333333, 12.43333333, 10.05833333, 12.19166667, 14.425     ,\n",
       "       16.48333333, 13.7       ])"
      ]
     },
     "execution_count": 42,
     "metadata": {},
     "output_type": "execute_result"
    }
   ],
   "source": [
    "te_exp_score"
   ]
  },
  {
   "cell_type": "markdown",
   "id": "08844063-7faf-4f33-a4f9-f7a526809fe3",
   "metadata": {
    "tags": []
   },
   "source": [
    "### FLEX\n",
    "\n",
    "This is a bit harder to calculate since the FLEX position could be a RB, WR, or TE. I'll assume the FLEX starters are the top 12-highest scores after the top 24 RBs, top 24 WRs, and top 12 TEs are removed, and the replacement-level FLEX players are the next 12 highest scorers."
   ]
  },
  {
   "cell_type": "code",
   "execution_count": 43,
   "id": "7450abda-1bbc-4228-840e-8503c7fb98e8",
   "metadata": {},
   "outputs": [],
   "source": [
    "rb_narrow = rb[['Rank', 'Player', 'FPTS', 'WK']].copy()\n",
    "wr_narrow = wr[['Rank', 'Player', 'FPTS', 'WK']].copy()\n",
    "te_narrow = te[['Rank', 'Player', 'FPTS', 'WK']].copy()"
   ]
  },
  {
   "cell_type": "code",
   "execution_count": 44,
   "id": "40921bfa-bd28-48e8-9e55-d9ea9a55c5df",
   "metadata": {},
   "outputs": [],
   "source": [
    "rb_narrow['POS'] = 'RB'\n",
    "wr_narrow['POS'] = 'WR'\n",
    "te_narrow['POS'] = 'TE'"
   ]
  },
  {
   "cell_type": "code",
   "execution_count": 45,
   "id": "fb713579-fdfd-4b72-87de-ff04ab625292",
   "metadata": {},
   "outputs": [],
   "source": [
    "flex = pd.concat([rb_narrow, wr_narrow, te_narrow])"
   ]
  },
  {
   "cell_type": "code",
   "execution_count": 46,
   "id": "f78be58c-b1e4-4103-ad85-94a7ccdb3cf2",
   "metadata": {},
   "outputs": [
    {
     "data": {
      "text/html": [
       "<div>\n",
       "<style scoped>\n",
       "    .dataframe tbody tr th:only-of-type {\n",
       "        vertical-align: middle;\n",
       "    }\n",
       "\n",
       "    .dataframe tbody tr th {\n",
       "        vertical-align: top;\n",
       "    }\n",
       "\n",
       "    .dataframe thead th {\n",
       "        text-align: right;\n",
       "    }\n",
       "</style>\n",
       "<table border=\"1\" class=\"dataframe\">\n",
       "  <thead>\n",
       "    <tr style=\"text-align: right;\">\n",
       "      <th></th>\n",
       "      <th>Rank</th>\n",
       "      <th>Player</th>\n",
       "      <th>FPTS</th>\n",
       "      <th>WK</th>\n",
       "      <th>POS</th>\n",
       "    </tr>\n",
       "  </thead>\n",
       "  <tbody>\n",
       "    <tr>\n",
       "      <th>0</th>\n",
       "      <td>1.0</td>\n",
       "      <td>Saquon Barkley</td>\n",
       "      <td>30.4</td>\n",
       "      <td>1</td>\n",
       "      <td>RB</td>\n",
       "    </tr>\n",
       "    <tr>\n",
       "      <th>1</th>\n",
       "      <td>2.0</td>\n",
       "      <td>Jonathan Taylor</td>\n",
       "      <td>25.5</td>\n",
       "      <td>1</td>\n",
       "      <td>RB</td>\n",
       "    </tr>\n",
       "    <tr>\n",
       "      <th>2</th>\n",
       "      <td>3.0</td>\n",
       "      <td>D'Andre Swift</td>\n",
       "      <td>25.0</td>\n",
       "      <td>1</td>\n",
       "      <td>RB</td>\n",
       "    </tr>\n",
       "    <tr>\n",
       "      <th>3</th>\n",
       "      <td>4.0</td>\n",
       "      <td>Cordarrelle Patterson</td>\n",
       "      <td>21.1</td>\n",
       "      <td>1</td>\n",
       "      <td>RB</td>\n",
       "    </tr>\n",
       "    <tr>\n",
       "      <th>4</th>\n",
       "      <td>5.0</td>\n",
       "      <td>Kareem Hunt</td>\n",
       "      <td>21.0</td>\n",
       "      <td>1</td>\n",
       "      <td>RB</td>\n",
       "    </tr>\n",
       "  </tbody>\n",
       "</table>\n",
       "</div>"
      ],
      "text/plain": [
       "   Rank                 Player  FPTS  WK POS\n",
       "0   1.0         Saquon Barkley  30.4   1  RB\n",
       "1   2.0        Jonathan Taylor  25.5   1  RB\n",
       "2   3.0          D'Andre Swift  25.0   1  RB\n",
       "3   4.0  Cordarrelle Patterson  21.1   1  RB\n",
       "4   5.0            Kareem Hunt  21.0   1  RB"
      ]
     },
     "execution_count": 46,
     "metadata": {},
     "output_type": "execute_result"
    }
   ],
   "source": [
    "flex.head()"
   ]
  },
  {
   "cell_type": "code",
   "execution_count": 47,
   "id": "20796eb6-754c-47f1-8405-46bdc11c6051",
   "metadata": {},
   "outputs": [],
   "source": [
    "# Removing starting RBs, WRs, and TEs\n",
    "flex = flex[((flex['POS'] == 'RB') & (flex['Rank'] > 24)) |\n",
    "            ((flex['POS'] == 'WR') & (flex['Rank'] > 24)) |\n",
    "            ((flex['POS'] == 'TE') & (flex['Rank'] > 12))]"
   ]
  },
  {
   "cell_type": "code",
   "execution_count": 48,
   "id": "ecbb9c4b-d29e-4c86-ae83-bef6f3aeef9d",
   "metadata": {},
   "outputs": [],
   "source": [
    "# Sorting points each week\n",
    "flex = flex.sort_values(['WK', 'FPTS'], ascending=False)"
   ]
  },
  {
   "cell_type": "code",
   "execution_count": 49,
   "id": "99675561-8bb9-4d41-98a9-76d9d5503d64",
   "metadata": {},
   "outputs": [],
   "source": [
    "# Updating rank calculations\n",
    "flex['Rank'] = flex.groupby(['WK']).cumcount()+1"
   ]
  },
  {
   "cell_type": "code",
   "execution_count": 50,
   "id": "e8648ba7-7b9b-4eaa-be9f-80f5dbd3ec99",
   "metadata": {},
   "outputs": [],
   "source": [
    "# Filtering down to replacement players\n",
    "flex_replacements = flex[(flex['Rank'] > n_teams) & (flex['Rank'] <=n_teams*2)]\n",
    "flex_starters = flex[flex['Rank'] <= n_teams]"
   ]
  },
  {
   "cell_type": "code",
   "execution_count": 51,
   "id": "5421501b-ec2d-44c1-93bb-360fc59062b2",
   "metadata": {},
   "outputs": [],
   "source": [
    "flex_rep_score = np.zeros(n_weeks)\n",
    "\n",
    "for i in range(n_weeks):\n",
    "    flex_rep_score[i] = flex_replacements[flex_replacements['WK'] == i+1]['FPTS'].mean()"
   ]
  },
  {
   "cell_type": "code",
   "execution_count": 52,
   "id": "f30f3b4f-a58e-4850-a7c9-6902520a8fca",
   "metadata": {},
   "outputs": [
    {
     "data": {
      "text/plain": [
       "array([ 9.125     ,  8.925     , 10.01666667,  8.99166667,  8.89166667,\n",
       "        7.775     ,  8.475     ,  9.20833333,  5.98333333,  8.625     ,\n",
       "        8.04166667,  9.61666667,  8.7       ,  7.90833333,  9.91666667,\n",
       "        8.54166667,  7.99166667])"
      ]
     },
     "execution_count": 52,
     "metadata": {},
     "output_type": "execute_result"
    }
   ],
   "source": [
    "flex_rep_score"
   ]
  },
  {
   "cell_type": "code",
   "execution_count": 53,
   "id": "1685d0e8-34b3-4cbb-a10c-00f79184d497",
   "metadata": {},
   "outputs": [],
   "source": [
    "flex_exp_score = np.zeros(n_weeks)\n",
    "\n",
    "for i in range(n_weeks):\n",
    "    flex_exp_score[i] = flex_starters[flex_starters['WK'] == i+1]['FPTS'].mean()"
   ]
  },
  {
   "cell_type": "code",
   "execution_count": 54,
   "id": "fb2487cb-4619-44c6-9269-e4d33a0c329e",
   "metadata": {},
   "outputs": [
    {
     "data": {
      "text/plain": [
       "array([10.93333333, 11.4       , 11.95      , 10.11666667, 10.21666667,\n",
       "       10.23333333, 10.375     , 10.23333333,  7.375     , 10.975     ,\n",
       "        9.80833333, 11.275     , 10.45833333, 10.59166667, 11.21666667,\n",
       "       10.46666667,  8.975     ])"
      ]
     },
     "execution_count": 54,
     "metadata": {},
     "output_type": "execute_result"
    }
   ],
   "source": [
    "flex_exp_score"
   ]
  },
  {
   "cell_type": "markdown",
   "id": "76b51469-69d9-4470-b030-4b56d90d4663",
   "metadata": {},
   "source": [
    "## Individual Player WAR"
   ]
  },
  {
   "cell_type": "markdown",
   "id": "071635e7-a843-41e5-8bb9-172b990331cd",
   "metadata": {},
   "source": [
    "### Defining functions"
   ]
  },
  {
   "cell_type": "code",
   "execution_count": 55,
   "id": "f98e3878-c688-4d02-bee8-1fcfc6f2364e",
   "metadata": {},
   "outputs": [],
   "source": [
    "def collect_dataframes(player, position):\n",
    "    \"\"\"\n",
    "    Return correct positional dataframes. This simplifies future coding by limiting the\n",
    "    number of parameters that need to be passed in to the main function.\n",
    "    \"\"\"\n",
    "    \n",
    "    if position == 'QB':\n",
    "        return (qb, qb_exp_score, qb_rep_score)\n",
    "    \n",
    "    elif position == 'RB':\n",
    "        return (rb, rb_exp_score, rb_rep_score)\n",
    "    \n",
    "    elif position == 'WR':\n",
    "        return (wr, wr_exp_score, wr_rep_score)\n",
    "    \n",
    "    else:\n",
    "        return (te, te_exp_score, te_rep_score)"
   ]
  },
  {
   "cell_type": "code",
   "execution_count": 56,
   "id": "ee2a26d9-77af-4b1a-b4a8-c45900fb078f",
   "metadata": {},
   "outputs": [],
   "source": [
    "def get_player_exp_team_scores(player, position_df, exp_df, rep_df):\n",
    "    \"\"\"  \n",
    "    Return the expected team scores by week for a player\n",
    "    \"\"\"\n",
    "    \n",
    "    # Create needed arrays\n",
    "    player_scores = np.zeros(n_weeks)\n",
    "    player_exp_team_scores = np.zeros(n_weeks)\n",
    "    \n",
    "    # Get player's scores for each week\n",
    "    for i in range(n_weeks):\n",
    "        player_scores[i] = position_df[(position_df['Player'] == player) & (position_df['WK'] == i+1)]['FPTS']\n",
    "        \n",
    "        # Replace 0s with replacement-level scores\n",
    "        if player_scores[i] == 0:\n",
    "            player_scores[i] = rep_df[i]\n",
    "        \n",
    "        player_exp_team_scores[i] = weekly_avg[i] - exp_df[i] + player_scores[i]\n",
    "        \n",
    "    return player_exp_team_scores"
   ]
  },
  {
   "cell_type": "code",
   "execution_count": 57,
   "id": "98384153-b3b3-424b-b0b5-798ac2516a70",
   "metadata": {},
   "outputs": [],
   "source": [
    "def get_player_win_prob(player_exp_team_scores):\n",
    "    \"\"\"\n",
    "    Return the expected win probability for a team given that team's expected score\n",
    "    \"\"\"\n",
    "    \n",
    "    player_win_prob = np.zeros(n_weeks)\n",
    "    player_z_score = (player_exp_team_scores - weekly_avg)/weekly_std\n",
    "    \n",
    "    for i in range(n_weeks):\n",
    "        player_win_prob[i] = st.norm.cdf(player_z_score[i])\n",
    "        \n",
    "    return player_win_prob"
   ]
  },
  {
   "cell_type": "code",
   "execution_count": 58,
   "id": "5a8847fc-e31c-4118-a50b-ec2b1d81c52b",
   "metadata": {},
   "outputs": [],
   "source": [
    "def calculate_player_exp_wins(player, position):\n",
    "    \"\"\"\n",
    "    Calculate the expected wins from a particular player assuming they start every week\n",
    "    in which they are available.\n",
    "    \"\"\"\n",
    "    \n",
    "    # Get correct dataframes\n",
    "    pos_df, exp_df, rep_df = collect_dataframes(player, position)\n",
    "    \n",
    "    # Get expected weekly scores with that player\n",
    "    player_exp_team_scores = get_player_exp_team_scores(player, pos_df, exp_df, rep_df)\n",
    "    \n",
    "    # Get weekly win probability\n",
    "    player_win_probs = get_player_win_prob(player_exp_team_scores)\n",
    "    \n",
    "    return sum(player_win_probs)"
   ]
  },
  {
   "cell_type": "markdown",
   "id": "aa2d5669-45e5-40a5-8ee9-617e870611cd",
   "metadata": {},
   "source": [
    "### Calculating replacement player exp. wins"
   ]
  },
  {
   "cell_type": "code",
   "execution_count": 59,
   "id": "caad1a52-6862-4832-844f-a45f897bcb83",
   "metadata": {},
   "outputs": [],
   "source": [
    "rep_qb_exp_team_scores = weekly_avg - qb_exp_score + qb_rep_score\n",
    "rep_rb_exp_team_scores = weekly_avg - rb_exp_score + rb_rep_score\n",
    "rep_wr_exp_team_scores = weekly_avg - wr_exp_score + wr_rep_score\n",
    "rep_te_exp_team_scores = weekly_avg - te_exp_score + te_rep_score\n",
    "rep_flex_exp_team_scores = weekly_avg - flex_exp_score + flex_rep_score"
   ]
  },
  {
   "cell_type": "code",
   "execution_count": 60,
   "id": "c0683f25-c5d2-4124-90c5-8a4e7bf89ec5",
   "metadata": {},
   "outputs": [],
   "source": [
    "rep_qb_win_prob = np.zeros(n_weeks)\n",
    "rep_rb_win_prob = np.zeros(n_weeks)\n",
    "rep_wr_win_prob = np.zeros(n_weeks)\n",
    "rep_te_win_prob = np.zeros(n_weeks)\n",
    "rep_flex_win_prob = np.zeros(n_weeks)\n",
    "\n",
    "rep_qb_z_score = (rep_qb_exp_team_scores - weekly_avg)/weekly_std\n",
    "rep_rb_z_score = (rep_rb_exp_team_scores - weekly_avg)/weekly_std\n",
    "rep_wr_z_score = (rep_wr_exp_team_scores - weekly_avg)/weekly_std\n",
    "rep_te_z_score = (rep_te_exp_team_scores - weekly_avg)/weekly_std\n",
    "rep_flex_z_score = (rep_flex_exp_team_scores - weekly_avg)/weekly_std\n",
    "\n",
    "for i in range(n_weeks):\n",
    "    rep_qb_win_prob[i] = st.norm.cdf(rep_qb_z_score[i])\n",
    "    rep_rb_win_prob[i] = st.norm.cdf(rep_rb_z_score[i])\n",
    "    rep_wr_win_prob[i] = st.norm.cdf(rep_wr_z_score[i])\n",
    "    rep_te_win_prob[i] = st.norm.cdf(rep_te_z_score[i])\n",
    "    rep_flex_win_prob[i] = st.norm.cdf(rep_flex_z_score[i])"
   ]
  },
  {
   "cell_type": "code",
   "execution_count": 61,
   "id": "5bcf5565-a872-4e3e-be9c-fe7d925988f0",
   "metadata": {},
   "outputs": [
    {
     "name": "stdout",
     "output_type": "stream",
     "text": [
      "Expected wins from replacement QB: 5.51\n",
      "Expected wins from replacement RB: 5.42\n",
      "Expected wins from replacement WR: 5.86\n",
      "Expected wins from replacement TE: 6.31\n",
      "Expected wins from replacement FLEX: 7.93\n"
     ]
    }
   ],
   "source": [
    "qb_rep_exp_wins = sum(rep_qb_win_prob)\n",
    "rb_rep_exp_wins = sum(rep_rb_win_prob)\n",
    "wr_rep_exp_wins = sum(rep_wr_win_prob)\n",
    "te_rep_exp_wins = sum(rep_te_win_prob)\n",
    "flex_rep_exp_wins = sum(rep_flex_win_prob)\n",
    "\n",
    "print(f'Expected wins from replacement QB: {qb_rep_exp_wins:.3}')\n",
    "print(f'Expected wins from replacement RB: {rb_rep_exp_wins:.3}')\n",
    "print(f'Expected wins from replacement WR: {wr_rep_exp_wins:.3}')\n",
    "print(f'Expected wins from replacement TE: {te_rep_exp_wins:.3}')\n",
    "print(f'Expected wins from replacement FLEX: {flex_rep_exp_wins:.3}')"
   ]
  },
  {
   "cell_type": "markdown",
   "id": "aaf5f465-27d0-4e07-b163-6657d20d67ce",
   "metadata": {
    "tags": []
   },
   "source": [
    "### Getting individual WARs"
   ]
  },
  {
   "cell_type": "markdown",
   "id": "0f3efbaa-87a5-4d5e-bd68-5c29c8be1eae",
   "metadata": {},
   "source": [
    "Problem to solve now: Some players weren't on consensus roster for all 17 weeks, and the expected team score functions fail in those cases. I need to build accomodations for that situation."
   ]
  },
  {
   "cell_type": "code",
   "execution_count": 73,
   "id": "4f329a65-63bb-406b-a7b3-207a5763aef9",
   "metadata": {},
   "outputs": [],
   "source": [
    "flex_players = flex['Player'].unique()\n",
    "\n",
    "qb_war = np.zeros(len(qb_players))\n",
    "rb_war = np.zeros(len(rb_players))\n",
    "wr_war = np.zeros(len(wr_players))\n",
    "te_war = np.zeros(len(te_players))\n",
    "flex_war = np.zeros(len(flex_players))"
   ]
  },
  {
   "cell_type": "code",
   "execution_count": 75,
   "id": "16eaa453-00a1-429e-9a57-b8512c4817d1",
   "metadata": {},
   "outputs": [],
   "source": [
    "# Get QB WAR\n",
    "for i in range(len(qb_war)):\n",
    "    qb_war[i] = calculate_player_exp_wins(qb_players[i], 'QB') - qb_rep_exp_wins\n",
    "   "
   ]
  },
  {
   "cell_type": "code",
   "execution_count": 77,
   "id": "c6696800-28c7-4ae2-8745-04838b84f0d2",
   "metadata": {},
   "outputs": [
    {
     "ename": "ValueError",
     "evalue": "setting an array element with a sequence.",
     "output_type": "error",
     "traceback": [
      "\u001b[1;31m---------------------------------------------------------------------------\u001b[0m",
      "\u001b[1;31mTypeError\u001b[0m                                 Traceback (most recent call last)",
      "\u001b[1;32m~\\anaconda3\\lib\\site-packages\\pandas\\core\\series.py\u001b[0m in \u001b[0;36mwrapper\u001b[1;34m(self)\u001b[0m\n\u001b[0;32m    184\u001b[0m             \u001b[1;32mreturn\u001b[0m \u001b[0mconverter\u001b[0m\u001b[1;33m(\u001b[0m\u001b[0mself\u001b[0m\u001b[1;33m.\u001b[0m\u001b[0miloc\u001b[0m\u001b[1;33m[\u001b[0m\u001b[1;36m0\u001b[0m\u001b[1;33m]\u001b[0m\u001b[1;33m)\u001b[0m\u001b[1;33m\u001b[0m\u001b[1;33m\u001b[0m\u001b[0m\n\u001b[1;32m--> 185\u001b[1;33m         \u001b[1;32mraise\u001b[0m \u001b[0mTypeError\u001b[0m\u001b[1;33m(\u001b[0m\u001b[1;34mf\"cannot convert the series to {converter}\"\u001b[0m\u001b[1;33m)\u001b[0m\u001b[1;33m\u001b[0m\u001b[1;33m\u001b[0m\u001b[0m\n\u001b[0m\u001b[0;32m    186\u001b[0m \u001b[1;33m\u001b[0m\u001b[0m\n",
      "\u001b[1;31mTypeError\u001b[0m: cannot convert the series to <class 'float'>",
      "\nThe above exception was the direct cause of the following exception:\n",
      "\u001b[1;31mValueError\u001b[0m                                Traceback (most recent call last)",
      "\u001b[1;32m~\\AppData\\Local\\Temp/ipykernel_17436/4171244592.py\u001b[0m in \u001b[0;36m<module>\u001b[1;34m\u001b[0m\n\u001b[0;32m      1\u001b[0m \u001b[1;31m# Calculate RB WAR\u001b[0m\u001b[1;33m\u001b[0m\u001b[1;33m\u001b[0m\u001b[0m\n\u001b[0;32m      2\u001b[0m \u001b[1;32mfor\u001b[0m \u001b[0mi\u001b[0m \u001b[1;32min\u001b[0m \u001b[0mrange\u001b[0m\u001b[1;33m(\u001b[0m\u001b[0mlen\u001b[0m\u001b[1;33m(\u001b[0m\u001b[0mrb_war\u001b[0m\u001b[1;33m)\u001b[0m\u001b[1;33m)\u001b[0m\u001b[1;33m:\u001b[0m\u001b[1;33m\u001b[0m\u001b[1;33m\u001b[0m\u001b[0m\n\u001b[1;32m----> 3\u001b[1;33m     \u001b[0mrb_war\u001b[0m\u001b[1;33m[\u001b[0m\u001b[0mi\u001b[0m\u001b[1;33m]\u001b[0m \u001b[1;33m=\u001b[0m \u001b[0mcalculate_player_exp_wins\u001b[0m\u001b[1;33m(\u001b[0m\u001b[0mrb_players\u001b[0m\u001b[1;33m[\u001b[0m\u001b[0mi\u001b[0m\u001b[1;33m]\u001b[0m\u001b[1;33m,\u001b[0m \u001b[1;34m'RB'\u001b[0m\u001b[1;33m)\u001b[0m \u001b[1;33m-\u001b[0m \u001b[0mrb_rep_exp_wins\u001b[0m\u001b[1;33m\u001b[0m\u001b[1;33m\u001b[0m\u001b[0m\n\u001b[0m\u001b[0;32m      4\u001b[0m \u001b[1;33m\u001b[0m\u001b[0m\n",
      "\u001b[1;32m~\\AppData\\Local\\Temp/ipykernel_17436/3555773445.py\u001b[0m in \u001b[0;36mcalculate_player_exp_wins\u001b[1;34m(player, position)\u001b[0m\n\u001b[0;32m      9\u001b[0m \u001b[1;33m\u001b[0m\u001b[0m\n\u001b[0;32m     10\u001b[0m     \u001b[1;31m# Get expected weekly scores with that player\u001b[0m\u001b[1;33m\u001b[0m\u001b[1;33m\u001b[0m\u001b[0m\n\u001b[1;32m---> 11\u001b[1;33m     \u001b[0mplayer_exp_team_scores\u001b[0m \u001b[1;33m=\u001b[0m \u001b[0mget_player_exp_team_scores\u001b[0m\u001b[1;33m(\u001b[0m\u001b[0mplayer\u001b[0m\u001b[1;33m,\u001b[0m \u001b[0mpos_df\u001b[0m\u001b[1;33m,\u001b[0m \u001b[0mexp_df\u001b[0m\u001b[1;33m,\u001b[0m \u001b[0mrep_df\u001b[0m\u001b[1;33m)\u001b[0m\u001b[1;33m\u001b[0m\u001b[1;33m\u001b[0m\u001b[0m\n\u001b[0m\u001b[0;32m     12\u001b[0m \u001b[1;33m\u001b[0m\u001b[0m\n\u001b[0;32m     13\u001b[0m     \u001b[1;31m# Get weekly win probability\u001b[0m\u001b[1;33m\u001b[0m\u001b[1;33m\u001b[0m\u001b[0m\n",
      "\u001b[1;32m~\\AppData\\Local\\Temp/ipykernel_17436/3359803659.py\u001b[0m in \u001b[0;36mget_player_exp_team_scores\u001b[1;34m(player, position_df, exp_df, rep_df)\u001b[0m\n\u001b[0;32m     10\u001b[0m     \u001b[1;31m# Get player's scores for each week\u001b[0m\u001b[1;33m\u001b[0m\u001b[1;33m\u001b[0m\u001b[0m\n\u001b[0;32m     11\u001b[0m     \u001b[1;32mfor\u001b[0m \u001b[0mi\u001b[0m \u001b[1;32min\u001b[0m \u001b[0mrange\u001b[0m\u001b[1;33m(\u001b[0m\u001b[0mn_weeks\u001b[0m\u001b[1;33m)\u001b[0m\u001b[1;33m:\u001b[0m\u001b[1;33m\u001b[0m\u001b[1;33m\u001b[0m\u001b[0m\n\u001b[1;32m---> 12\u001b[1;33m         \u001b[0mplayer_scores\u001b[0m\u001b[1;33m[\u001b[0m\u001b[0mi\u001b[0m\u001b[1;33m]\u001b[0m \u001b[1;33m=\u001b[0m \u001b[0mposition_df\u001b[0m\u001b[1;33m[\u001b[0m\u001b[1;33m(\u001b[0m\u001b[0mposition_df\u001b[0m\u001b[1;33m[\u001b[0m\u001b[1;34m'Player'\u001b[0m\u001b[1;33m]\u001b[0m \u001b[1;33m==\u001b[0m \u001b[0mplayer\u001b[0m\u001b[1;33m)\u001b[0m \u001b[1;33m&\u001b[0m \u001b[1;33m(\u001b[0m\u001b[0mposition_df\u001b[0m\u001b[1;33m[\u001b[0m\u001b[1;34m'WK'\u001b[0m\u001b[1;33m]\u001b[0m \u001b[1;33m==\u001b[0m \u001b[0mi\u001b[0m\u001b[1;33m+\u001b[0m\u001b[1;36m1\u001b[0m\u001b[1;33m)\u001b[0m\u001b[1;33m]\u001b[0m\u001b[1;33m[\u001b[0m\u001b[1;34m'FPTS'\u001b[0m\u001b[1;33m]\u001b[0m\u001b[1;33m\u001b[0m\u001b[1;33m\u001b[0m\u001b[0m\n\u001b[0m\u001b[0;32m     13\u001b[0m \u001b[1;33m\u001b[0m\u001b[0m\n\u001b[0;32m     14\u001b[0m         \u001b[1;31m# Replace 0s with replacement-level scores\u001b[0m\u001b[1;33m\u001b[0m\u001b[1;33m\u001b[0m\u001b[0m\n",
      "\u001b[1;31mValueError\u001b[0m: setting an array element with a sequence."
     ]
    }
   ],
   "source": [
    " \n",
    "# Calculate RB WAR\n",
    "for i in range(len(rb_war)):\n",
    "    rb_war[i] = calculate_player_exp_wins(rb_players[i], 'RB') - rb_rep_exp_wins\n",
    "   "
   ]
  },
  {
   "cell_type": "code",
   "execution_count": 76,
   "id": "6b2012cb-ec45-4512-a7e0-402628e1eea2",
   "metadata": {},
   "outputs": [
    {
     "ename": "ValueError",
     "evalue": "setting an array element with a sequence.",
     "output_type": "error",
     "traceback": [
      "\u001b[1;31m---------------------------------------------------------------------------\u001b[0m",
      "\u001b[1;31mTypeError\u001b[0m                                 Traceback (most recent call last)",
      "\u001b[1;32m~\\anaconda3\\lib\\site-packages\\pandas\\core\\series.py\u001b[0m in \u001b[0;36mwrapper\u001b[1;34m(self)\u001b[0m\n\u001b[0;32m    184\u001b[0m             \u001b[1;32mreturn\u001b[0m \u001b[0mconverter\u001b[0m\u001b[1;33m(\u001b[0m\u001b[0mself\u001b[0m\u001b[1;33m.\u001b[0m\u001b[0miloc\u001b[0m\u001b[1;33m[\u001b[0m\u001b[1;36m0\u001b[0m\u001b[1;33m]\u001b[0m\u001b[1;33m)\u001b[0m\u001b[1;33m\u001b[0m\u001b[1;33m\u001b[0m\u001b[0m\n\u001b[1;32m--> 185\u001b[1;33m         \u001b[1;32mraise\u001b[0m \u001b[0mTypeError\u001b[0m\u001b[1;33m(\u001b[0m\u001b[1;34mf\"cannot convert the series to {converter}\"\u001b[0m\u001b[1;33m)\u001b[0m\u001b[1;33m\u001b[0m\u001b[1;33m\u001b[0m\u001b[0m\n\u001b[0m\u001b[0;32m    186\u001b[0m \u001b[1;33m\u001b[0m\u001b[0m\n",
      "\u001b[1;31mTypeError\u001b[0m: cannot convert the series to <class 'float'>",
      "\nThe above exception was the direct cause of the following exception:\n",
      "\u001b[1;31mValueError\u001b[0m                                Traceback (most recent call last)",
      "\u001b[1;32m~\\AppData\\Local\\Temp/ipykernel_17436/921530529.py\u001b[0m in \u001b[0;36m<module>\u001b[1;34m\u001b[0m\n\u001b[0;32m      1\u001b[0m \u001b[1;31m# Calculate WR WAR\u001b[0m\u001b[1;33m\u001b[0m\u001b[1;33m\u001b[0m\u001b[0m\n\u001b[0;32m      2\u001b[0m \u001b[1;32mfor\u001b[0m \u001b[0mi\u001b[0m \u001b[1;32min\u001b[0m \u001b[0mrange\u001b[0m\u001b[1;33m(\u001b[0m\u001b[0mlen\u001b[0m\u001b[1;33m(\u001b[0m\u001b[0mwr_war\u001b[0m\u001b[1;33m)\u001b[0m\u001b[1;33m)\u001b[0m\u001b[1;33m:\u001b[0m\u001b[1;33m\u001b[0m\u001b[1;33m\u001b[0m\u001b[0m\n\u001b[1;32m----> 3\u001b[1;33m     \u001b[0mwr_war\u001b[0m\u001b[1;33m[\u001b[0m\u001b[0mi\u001b[0m\u001b[1;33m]\u001b[0m \u001b[1;33m=\u001b[0m \u001b[0mcalculate_player_exp_wins\u001b[0m\u001b[1;33m(\u001b[0m\u001b[0mwr_players\u001b[0m\u001b[1;33m[\u001b[0m\u001b[0mi\u001b[0m\u001b[1;33m]\u001b[0m\u001b[1;33m,\u001b[0m \u001b[1;34m'WR'\u001b[0m\u001b[1;33m)\u001b[0m \u001b[1;33m-\u001b[0m \u001b[0mwr_rep_exp_wins\u001b[0m\u001b[1;33m\u001b[0m\u001b[1;33m\u001b[0m\u001b[0m\n\u001b[0m\u001b[0;32m      4\u001b[0m \u001b[1;33m\u001b[0m\u001b[0m\n\u001b[0;32m      5\u001b[0m \u001b[1;31m# Calculate TE WAR\u001b[0m\u001b[1;33m\u001b[0m\u001b[1;33m\u001b[0m\u001b[0m\n",
      "\u001b[1;32m~\\AppData\\Local\\Temp/ipykernel_17436/3555773445.py\u001b[0m in \u001b[0;36mcalculate_player_exp_wins\u001b[1;34m(player, position)\u001b[0m\n\u001b[0;32m      9\u001b[0m \u001b[1;33m\u001b[0m\u001b[0m\n\u001b[0;32m     10\u001b[0m     \u001b[1;31m# Get expected weekly scores with that player\u001b[0m\u001b[1;33m\u001b[0m\u001b[1;33m\u001b[0m\u001b[0m\n\u001b[1;32m---> 11\u001b[1;33m     \u001b[0mplayer_exp_team_scores\u001b[0m \u001b[1;33m=\u001b[0m \u001b[0mget_player_exp_team_scores\u001b[0m\u001b[1;33m(\u001b[0m\u001b[0mplayer\u001b[0m\u001b[1;33m,\u001b[0m \u001b[0mpos_df\u001b[0m\u001b[1;33m,\u001b[0m \u001b[0mexp_df\u001b[0m\u001b[1;33m,\u001b[0m \u001b[0mrep_df\u001b[0m\u001b[1;33m)\u001b[0m\u001b[1;33m\u001b[0m\u001b[1;33m\u001b[0m\u001b[0m\n\u001b[0m\u001b[0;32m     12\u001b[0m \u001b[1;33m\u001b[0m\u001b[0m\n\u001b[0;32m     13\u001b[0m     \u001b[1;31m# Get weekly win probability\u001b[0m\u001b[1;33m\u001b[0m\u001b[1;33m\u001b[0m\u001b[0m\n",
      "\u001b[1;32m~\\AppData\\Local\\Temp/ipykernel_17436/3359803659.py\u001b[0m in \u001b[0;36mget_player_exp_team_scores\u001b[1;34m(player, position_df, exp_df, rep_df)\u001b[0m\n\u001b[0;32m     10\u001b[0m     \u001b[1;31m# Get player's scores for each week\u001b[0m\u001b[1;33m\u001b[0m\u001b[1;33m\u001b[0m\u001b[0m\n\u001b[0;32m     11\u001b[0m     \u001b[1;32mfor\u001b[0m \u001b[0mi\u001b[0m \u001b[1;32min\u001b[0m \u001b[0mrange\u001b[0m\u001b[1;33m(\u001b[0m\u001b[0mn_weeks\u001b[0m\u001b[1;33m)\u001b[0m\u001b[1;33m:\u001b[0m\u001b[1;33m\u001b[0m\u001b[1;33m\u001b[0m\u001b[0m\n\u001b[1;32m---> 12\u001b[1;33m         \u001b[0mplayer_scores\u001b[0m\u001b[1;33m[\u001b[0m\u001b[0mi\u001b[0m\u001b[1;33m]\u001b[0m \u001b[1;33m=\u001b[0m \u001b[0mposition_df\u001b[0m\u001b[1;33m[\u001b[0m\u001b[1;33m(\u001b[0m\u001b[0mposition_df\u001b[0m\u001b[1;33m[\u001b[0m\u001b[1;34m'Player'\u001b[0m\u001b[1;33m]\u001b[0m \u001b[1;33m==\u001b[0m \u001b[0mplayer\u001b[0m\u001b[1;33m)\u001b[0m \u001b[1;33m&\u001b[0m \u001b[1;33m(\u001b[0m\u001b[0mposition_df\u001b[0m\u001b[1;33m[\u001b[0m\u001b[1;34m'WK'\u001b[0m\u001b[1;33m]\u001b[0m \u001b[1;33m==\u001b[0m \u001b[0mi\u001b[0m\u001b[1;33m+\u001b[0m\u001b[1;36m1\u001b[0m\u001b[1;33m)\u001b[0m\u001b[1;33m]\u001b[0m\u001b[1;33m[\u001b[0m\u001b[1;34m'FPTS'\u001b[0m\u001b[1;33m]\u001b[0m\u001b[1;33m\u001b[0m\u001b[1;33m\u001b[0m\u001b[0m\n\u001b[0m\u001b[0;32m     13\u001b[0m \u001b[1;33m\u001b[0m\u001b[0m\n\u001b[0;32m     14\u001b[0m         \u001b[1;31m# Replace 0s with replacement-level scores\u001b[0m\u001b[1;33m\u001b[0m\u001b[1;33m\u001b[0m\u001b[0m\n",
      "\u001b[1;31mValueError\u001b[0m: setting an array element with a sequence."
     ]
    }
   ],
   "source": [
    " \n",
    "# Calculate WR WAR\n",
    "for i in range(len(wr_war)):\n",
    "    wr_war[i] = calculate_player_exp_wins(wr_players[i], 'WR') - wr_rep_exp_wins\n",
    "    \n",
    "# Calculate TE WAR\n",
    "for i in range(len(te_war)):\n",
    "    te_war[i] = calculate_player_exp_wins(te_players[i], 'TE') - te_rep_exp_wins\n",
    "\n",
    "# Calculate FLEX WAR\n",
    "for i in range(len(flex_war)):\n",
    "    flex_war[i] = calculate_player_exp_wins(flex_players[i], 'FLEX') - flex_rep_exp_wins"
   ]
  },
  {
   "cell_type": "code",
   "execution_count": 69,
   "id": "a4c76084-8f6d-4650-ab8e-a61e975708ac",
   "metadata": {},
   "outputs": [
    {
     "data": {
      "text/plain": [
       "'Davis Cheek'"
      ]
     },
     "execution_count": 69,
     "metadata": {},
     "output_type": "execute_result"
    }
   ],
   "source": [
    "qb_players[-2]"
   ]
  },
  {
   "cell_type": "code",
   "execution_count": 72,
   "id": "bf514049-5dec-4eff-a0ee-a364a1dcba33",
   "metadata": {},
   "outputs": [
    {
     "data": {
      "text/html": [
       "<div>\n",
       "<style scoped>\n",
       "    .dataframe tbody tr th:only-of-type {\n",
       "        vertical-align: middle;\n",
       "    }\n",
       "\n",
       "    .dataframe tbody tr th {\n",
       "        vertical-align: top;\n",
       "    }\n",
       "\n",
       "    .dataframe thead th {\n",
       "        text-align: right;\n",
       "    }\n",
       "</style>\n",
       "<table border=\"1\" class=\"dataframe\">\n",
       "  <thead>\n",
       "    <tr style=\"text-align: right;\">\n",
       "      <th></th>\n",
       "      <th>Player</th>\n",
       "      <th>WAR</th>\n",
       "    </tr>\n",
       "  </thead>\n",
       "  <tbody>\n",
       "    <tr>\n",
       "      <th>0</th>\n",
       "      <td>Patrick Mahomes II</td>\n",
       "      <td>3.270787</td>\n",
       "    </tr>\n",
       "    <tr>\n",
       "      <th>1</th>\n",
       "      <td>Josh Allen</td>\n",
       "      <td>3.114525</td>\n",
       "    </tr>\n",
       "    <tr>\n",
       "      <th>2</th>\n",
       "      <td>Carson Wentz</td>\n",
       "      <td>0.211355</td>\n",
       "    </tr>\n",
       "    <tr>\n",
       "      <th>3</th>\n",
       "      <td>Jalen Hurts</td>\n",
       "      <td>3.348685</td>\n",
       "    </tr>\n",
       "    <tr>\n",
       "      <th>4</th>\n",
       "      <td>Justin Herbert</td>\n",
       "      <td>0.898214</td>\n",
       "    </tr>\n",
       "    <tr>\n",
       "      <th>...</th>\n",
       "      <td>...</td>\n",
       "      <td>...</td>\n",
       "    </tr>\n",
       "    <tr>\n",
       "      <th>131</th>\n",
       "      <td>Teddy Bridgewater</td>\n",
       "      <td>0.032463</td>\n",
       "    </tr>\n",
       "    <tr>\n",
       "      <th>132</th>\n",
       "      <td>Jacob Eason</td>\n",
       "      <td>-0.152567</td>\n",
       "    </tr>\n",
       "    <tr>\n",
       "      <th>133</th>\n",
       "      <td>Bryce Perkins</td>\n",
       "      <td>-0.796758</td>\n",
       "    </tr>\n",
       "    <tr>\n",
       "      <th>134</th>\n",
       "      <td>Chase Daniel</td>\n",
       "      <td>-0.150132</td>\n",
       "    </tr>\n",
       "    <tr>\n",
       "      <th>136</th>\n",
       "      <td>Nick Foles</td>\n",
       "      <td>-0.276147</td>\n",
       "    </tr>\n",
       "  </tbody>\n",
       "</table>\n",
       "<p>77 rows × 2 columns</p>\n",
       "</div>"
      ],
      "text/plain": [
       "                 Player       WAR\n",
       "0    Patrick Mahomes II  3.270787\n",
       "1            Josh Allen  3.114525\n",
       "2          Carson Wentz  0.211355\n",
       "3           Jalen Hurts  3.348685\n",
       "4        Justin Herbert  0.898214\n",
       "..                  ...       ...\n",
       "131   Teddy Bridgewater  0.032463\n",
       "132         Jacob Eason -0.152567\n",
       "133       Bryce Perkins -0.796758\n",
       "134        Chase Daniel -0.150132\n",
       "136          Nick Foles -0.276147\n",
       "\n",
       "[77 rows x 2 columns]"
      ]
     },
     "execution_count": 72,
     "metadata": {},
     "output_type": "execute_result"
    }
   ],
   "source": [
    "qb_war_df = pd.DataFrame({'Player': qb_players, 'WAR': qb_war})\n",
    "qb_war_df = qb_war_df[qb_war_df['WAR'] != 0]\n",
    "qb_war_df"
   ]
  },
  {
   "cell_type": "code",
   "execution_count": null,
   "id": "496ece68-41ad-496f-a140-69a31cdc8942",
   "metadata": {},
   "outputs": [],
   "source": []
  }
 ],
 "metadata": {
  "kernelspec": {
   "display_name": "Python 3 (ipykernel)",
   "language": "python",
   "name": "python3"
  },
  "language_info": {
   "codemirror_mode": {
    "name": "ipython",
    "version": 3
   },
   "file_extension": ".py",
   "mimetype": "text/x-python",
   "name": "python",
   "nbconvert_exporter": "python",
   "pygments_lexer": "ipython3",
   "version": "3.9.7"
  }
 },
 "nbformat": 4,
 "nbformat_minor": 5
}
