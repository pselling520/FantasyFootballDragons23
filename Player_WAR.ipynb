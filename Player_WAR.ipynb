{
 "cells": [
  {
   "cell_type": "markdown",
   "id": "747120ab-364a-454d-a24a-d7a58e8f6357",
   "metadata": {},
   "source": [
    "# Data Source\n",
    "\n",
    "I'm using weekly fantasy football data downloaded from [FantasyPros](https://www.fantasypros.com/). Specifically, I downloaded weekly data by position with the settings of Half PPR and Consensus Roster %. You can access an example week [here](https://www.fantasypros.com/nfl/stats/qb.php?week=1&scoring=HALF&range=week)."
   ]
  },
  {
   "cell_type": "markdown",
   "id": "8fe902ad-2019-4bfe-98de-805849ddc839",
   "metadata": {},
   "source": [
    "# Load in libraries"
   ]
  },
  {
   "cell_type": "code",
   "execution_count": 22,
   "id": "e90561d8-e607-496d-aa21-0be9c6d2cc57",
   "metadata": {},
   "outputs": [],
   "source": [
    "import pandas as pd\n",
    "import numpy as np"
   ]
  },
  {
   "cell_type": "markdown",
   "id": "6267a2cf-4688-4f8d-954e-de4499bc8232",
   "metadata": {},
   "source": [
    "# Set file path for each position"
   ]
  },
  {
   "cell_type": "code",
   "execution_count": 2,
   "id": "1d4774e1-b5a8-41d9-a000-69afa5b74e4c",
   "metadata": {},
   "outputs": [],
   "source": [
    "qb_path = 'C:\\\\Users\\\\Lenovo\\\\OneDrive\\\\Desktop\\\\fantasy_football\\\\2023\\\\QB_'\n",
    "rb_path = 'C:\\\\Users\\\\Lenovo\\\\OneDrive\\\\Desktop\\\\fantasy_football\\\\2023\\\\RB_'\n",
    "wr_path = 'C:\\\\Users\\\\Lenovo\\\\OneDrive\\\\Desktop\\\\fantasy_football\\\\2023\\\\WR_'\n",
    "te_path = 'C:\\\\Users\\\\Lenovo\\\\OneDrive\\\\Desktop\\\\fantasy_football\\\\2023\\\\TE_'"
   ]
  },
  {
   "cell_type": "markdown",
   "id": "f28f6541-5721-48a7-b810-17b483e37b19",
   "metadata": {},
   "source": [
    "# Load in weekly data\n",
    "\n",
    "## QBs"
   ]
  },
  {
   "cell_type": "code",
   "execution_count": 3,
   "id": "bc36914b-6cca-42e8-89e6-aee751ffd640",
   "metadata": {},
   "outputs": [],
   "source": [
    "qb1 = pd.read_csv(qb_path+'1.csv')\n",
    "qb2 = pd.read_csv(qb_path+'2.csv')\n",
    "qb3 = pd.read_csv(qb_path+'3.csv')\n",
    "qb4 = pd.read_csv(qb_path+'4.csv')\n",
    "qb5 = pd.read_csv(qb_path+'5.csv')\n",
    "qb6 = pd.read_csv(qb_path+'6.csv')\n",
    "qb7 = pd.read_csv(qb_path+'7.csv')\n",
    "qb8 = pd.read_csv(qb_path+'8.csv')\n",
    "qb9 = pd.read_csv(qb_path+'9.csv')\n",
    "qb10 = pd.read_csv(qb_path+'10.csv')\n",
    "qb11 = pd.read_csv(qb_path+'11.csv')\n",
    "qb12 = pd.read_csv(qb_path+'12.csv')\n",
    "qb13 = pd.read_csv(qb_path+'13.csv')\n",
    "qb14 = pd.read_csv(qb_path+'14.csv')\n",
    "qb15 = pd.read_csv(qb_path+'15.csv')\n",
    "qb16 = pd.read_csv(qb_path+'16.csv')\n",
    "qb17 = pd.read_csv(qb_path+'17.csv')\n",
    "qb18 = pd.read_csv(qb_path+'18.csv')"
   ]
  },
  {
   "cell_type": "markdown",
   "id": "a53a2d80-eef4-4716-8ae9-0873126b9f39",
   "metadata": {},
   "source": [
    "## RBs"
   ]
  },
  {
   "cell_type": "code",
   "execution_count": 4,
   "id": "eb645510-3197-40d1-a108-ec01b48462a1",
   "metadata": {},
   "outputs": [],
   "source": [
    "rb1 = pd.read_csv(rb_path+'1.csv')\n",
    "rb2 = pd.read_csv(rb_path+'2.csv')\n",
    "rb3 = pd.read_csv(rb_path+'3.csv')\n",
    "rb4 = pd.read_csv(rb_path+'4.csv')\n",
    "rb5 = pd.read_csv(rb_path+'5.csv')\n",
    "rb6 = pd.read_csv(rb_path+'6.csv')\n",
    "rb7 = pd.read_csv(rb_path+'7.csv')\n",
    "rb8 = pd.read_csv(rb_path+'8.csv')\n",
    "rb9 = pd.read_csv(rb_path+'9.csv')\n",
    "rb10 = pd.read_csv(rb_path+'10.csv')\n",
    "rb11 = pd.read_csv(rb_path+'11.csv')\n",
    "rb12 = pd.read_csv(rb_path+'12.csv')\n",
    "rb13 = pd.read_csv(rb_path+'13.csv')\n",
    "rb14 = pd.read_csv(rb_path+'14.csv')\n",
    "rb15 = pd.read_csv(rb_path+'15.csv')\n",
    "rb16 = pd.read_csv(rb_path+'16.csv')\n",
    "rb17 = pd.read_csv(rb_path+'17.csv')\n",
    "rb18 = pd.read_csv(rb_path+'18.csv')"
   ]
  },
  {
   "cell_type": "markdown",
   "id": "9dd8e805-81e3-491a-85bc-d6a24f428e7c",
   "metadata": {},
   "source": [
    "## WRs"
   ]
  },
  {
   "cell_type": "code",
   "execution_count": 5,
   "id": "2b8cc40c-c3ff-41a8-8bf9-f52d57eb4e51",
   "metadata": {},
   "outputs": [],
   "source": [
    "wr1 = pd.read_csv(wr_path+'1.csv')\n",
    "wr2 = pd.read_csv(wr_path+'2.csv')\n",
    "wr3 = pd.read_csv(wr_path+'3.csv')\n",
    "wr4 = pd.read_csv(wr_path+'4.csv')\n",
    "wr5 = pd.read_csv(wr_path+'5.csv')\n",
    "wr6 = pd.read_csv(wr_path+'6.csv')\n",
    "wr7 = pd.read_csv(wr_path+'7.csv')\n",
    "wr8 = pd.read_csv(wr_path+'8.csv')\n",
    "wr9 = pd.read_csv(wr_path+'9.csv')\n",
    "wr10 = pd.read_csv(wr_path+'10.csv')\n",
    "wr11 = pd.read_csv(wr_path+'11.csv')\n",
    "wr12 = pd.read_csv(wr_path+'12.csv')\n",
    "wr13 = pd.read_csv(wr_path+'13.csv')\n",
    "wr14 = pd.read_csv(wr_path+'14.csv')\n",
    "wr15 = pd.read_csv(wr_path+'15.csv')\n",
    "wr16 = pd.read_csv(wr_path+'16.csv')\n",
    "wr17 = pd.read_csv(wr_path+'17.csv')\n",
    "wr18 = pd.read_csv(wr_path+'18.csv')"
   ]
  },
  {
   "cell_type": "markdown",
   "id": "b81d1dcc-d287-46de-8063-88ac0365bcd8",
   "metadata": {},
   "source": [
    "## TEs"
   ]
  },
  {
   "cell_type": "code",
   "execution_count": 6,
   "id": "e04c3c3c-d4e6-4dbe-b65a-fe08fdb7f6e7",
   "metadata": {},
   "outputs": [],
   "source": [
    "te1 = pd.read_csv(te_path+'1.csv')\n",
    "te2 = pd.read_csv(te_path+'2.csv')\n",
    "te3 = pd.read_csv(te_path+'3.csv')\n",
    "te4 = pd.read_csv(te_path+'4.csv')\n",
    "te5 = pd.read_csv(te_path+'5.csv')\n",
    "te6 = pd.read_csv(te_path+'6.csv')\n",
    "te7 = pd.read_csv(te_path+'7.csv')\n",
    "te8 = pd.read_csv(te_path+'8.csv')\n",
    "te9 = pd.read_csv(te_path+'9.csv')\n",
    "te10 = pd.read_csv(te_path+'10.csv')\n",
    "te11 = pd.read_csv(te_path+'11.csv')\n",
    "te12 = pd.read_csv(te_path+'12.csv')\n",
    "te13 = pd.read_csv(te_path+'13.csv')\n",
    "te14 = pd.read_csv(te_path+'14.csv')\n",
    "te15 = pd.read_csv(te_path+'15.csv')\n",
    "te16 = pd.read_csv(te_path+'16.csv')\n",
    "te17 = pd.read_csv(te_path+'17.csv')\n",
    "te18 = pd.read_csv(te_path+'18.csv')"
   ]
  },
  {
   "cell_type": "markdown",
   "id": "f362ea11-f9f9-414e-a465-ef13d6278b0f",
   "metadata": {},
   "source": [
    "# Create list of weekly dataframes by position"
   ]
  },
  {
   "cell_type": "code",
   "execution_count": 7,
   "id": "ddd29b39-ad12-4d07-9e52-18cb246339b0",
   "metadata": {},
   "outputs": [],
   "source": [
    "qb_dfs = [qb1, qb2, qb3, qb4, qb5, qb6,\n",
    "          qb7, qb8, qb9, qb10, qb11, qb12,\n",
    "          qb13, qb14, qb15, qb16, qb17, qb18]\n",
    "\n",
    "rb_dfs = [rb1, rb2, rb3, rb4, rb5, rb6,\n",
    "          rb7, rb8, rb9, rb10, rb11, rb12,\n",
    "          rb13, rb14, rb15, rb16, rb17, rb18]\n",
    "\n",
    "wr_dfs = [wr1, wr2, wr3, wr4, wr5, wr6,\n",
    "          wr7, wr8, wr9, wr10, wr11, wr12,\n",
    "          wr13, wr14, wr15, wr16, wr17, wr18]\n",
    "\n",
    "te_dfs = [te1, te2, te3, te4, te5, te6,\n",
    "          te7, te8, te9, te10, te11, te12,\n",
    "          te13, te14, te15, te16, te17, te18]"
   ]
  },
  {
   "cell_type": "markdown",
   "id": "758180ce-a3da-4875-a9dd-aca3bb8d48cd",
   "metadata": {},
   "source": [
    "# Add 'WK' column"
   ]
  },
  {
   "cell_type": "code",
   "execution_count": 8,
   "id": "1f636b47-22e5-4db5-a970-664b3023008c",
   "metadata": {},
   "outputs": [],
   "source": [
    "for i in range(len(qb_dfs)):\n",
    "    qb_dfs[i]['WK'] = i+1\n",
    "    rb_dfs[i]['WK'] = i+1\n",
    "    wr_dfs[i]['WK'] = i+1\n",
    "    te_dfs[i]['WK'] = i+1"
   ]
  },
  {
   "cell_type": "markdown",
   "id": "398d4b02-6ded-4846-9e6e-1b0f9a3237ee",
   "metadata": {},
   "source": [
    "# Create one dataframe per position"
   ]
  },
  {
   "cell_type": "code",
   "execution_count": 9,
   "id": "c974b897-6ef8-4c33-8a61-387d334c2a84",
   "metadata": {},
   "outputs": [],
   "source": [
    "qb = pd.concat(qb_dfs)\n",
    "rb = pd.concat(rb_dfs)\n",
    "wr = pd.concat(wr_dfs)\n",
    "te = pd.concat(te_dfs)"
   ]
  },
  {
   "cell_type": "markdown",
   "id": "f87e91ec-8c95-40dd-87ee-40ec90858344",
   "metadata": {
    "tags": []
   },
   "source": [
    "# Clean up dataframes"
   ]
  },
  {
   "cell_type": "markdown",
   "id": "3c56e32d-56c5-4bc0-949b-e016c8e3643d",
   "metadata": {},
   "source": [
    "## Drop rows with mostly NAs"
   ]
  },
  {
   "cell_type": "code",
   "execution_count": 10,
   "id": "36a00067-e82c-4642-af3c-5238817b60f9",
   "metadata": {},
   "outputs": [],
   "source": [
    "qb = qb.dropna()\n",
    "rb = rb.dropna()\n",
    "wr = wr.dropna()\n",
    "te = te.dropna()"
   ]
  },
  {
   "cell_type": "markdown",
   "id": "61b00dd0-9677-48a4-8aa2-1c4c84ee010b",
   "metadata": {},
   "source": [
    "## Drop unnecessary columns"
   ]
  },
  {
   "cell_type": "code",
   "execution_count": 11,
   "id": "d44612d0-f60c-422c-a996-1b63dafd99b6",
   "metadata": {},
   "outputs": [],
   "source": [
    "qb = qb.drop(['G', 'FPTS/G', 'ROST'], axis=1)\n",
    "rb = rb.drop(['G', 'FPTS/G', 'ROST'], axis=1)\n",
    "wr = wr.drop(['G', 'FPTS/G', 'ROST'], axis=1)\n",
    "te = te.drop(['G', 'FPTS/G', 'ROST'], axis=1)"
   ]
  },
  {
   "cell_type": "markdown",
   "id": "9a8c2c01-dc4f-4bc1-a7f6-66f3aad392d1",
   "metadata": {},
   "source": [
    "## Remove teams from player names"
   ]
  },
  {
   "cell_type": "code",
   "execution_count": 12,
   "id": "af9e176f-2ebc-41d9-af21-03837de2fa9e",
   "metadata": {},
   "outputs": [],
   "source": [
    "for i in range(len(qb)):\n",
    "    qb['Player'].iat[i] = qb['Player'].iat[i].split(' (', 1)[0]\n",
    "    \n",
    "for i in range(len(rb)):\n",
    "    rb['Player'].iat[i] = rb['Player'].iat[i].split(' (', 1)[0]\n",
    "    \n",
    "for i in range(len(wr)):\n",
    "    wr['Player'].iat[i] = wr['Player'].iat[i].split(' (', 1)[0]\n",
    "    \n",
    "for i in range(len(te)):\n",
    "    te['Player'].iat[i] = te['Player'].iat[i].split(' (', 1)[0]"
   ]
  },
  {
   "cell_type": "markdown",
   "id": "4dc4d307-a70d-45e1-b71a-e47c0bc64b94",
   "metadata": {},
   "source": [
    "# WAR"
   ]
  },
  {
   "cell_type": "markdown",
   "id": "ccda3a67-6535-4a31-b21c-0104e76f08b2",
   "metadata": {},
   "source": [
    "WAR stands for \"Wins Above Replacement.\" The idea is to determine how many more/fewer wins a player contributed to their team relative to a replacement-level player. To do this, we need to figure out the following info:\n",
    "1. Average weekly score in my league\n",
    "2. Average team score standard deviation\n",
    "3. Calculate replacement-level player for each position\n",
    "4. Determine each player's WAR"
   ]
  },
  {
   "cell_type": "code",
   "execution_count": 38,
   "id": "7fed9842-bfd0-437c-ad09-fc19e5775fbf",
   "metadata": {},
   "outputs": [],
   "source": [
    "n_teams=12"
   ]
  },
  {
   "cell_type": "markdown",
   "id": "5152a0ab-06af-470d-a33c-124ca8cfaa95",
   "metadata": {
    "tags": []
   },
   "source": [
    "## Average weekly score"
   ]
  },
  {
   "cell_type": "code",
   "execution_count": null,
   "id": "96c195d7-dc25-4c8b-959a-7d3aa8e453f2",
   "metadata": {},
   "outputs": [],
   "source": []
  },
  {
   "cell_type": "markdown",
   "id": "7b92610f-2495-4496-a70f-813ef6401226",
   "metadata": {},
   "source": [
    "## Average team score standard deviation"
   ]
  },
  {
   "cell_type": "code",
   "execution_count": null,
   "id": "6d192bbf-a7a9-4bd0-9aa5-315af9351d7c",
   "metadata": {},
   "outputs": [],
   "source": []
  },
  {
   "cell_type": "markdown",
   "id": "dbf58caf-335c-4f46-a8b5-4dfa6773e14b",
   "metadata": {},
   "source": [
    "## Weekly replacement-level player by position"
   ]
  },
  {
   "cell_type": "markdown",
   "id": "413824c7-97be-430c-b7bf-75a10a4ec61f",
   "metadata": {},
   "source": [
    "### QB"
   ]
  },
  {
   "cell_type": "code",
   "execution_count": 39,
   "id": "5f25e99a-d5dc-4a15-b9c4-337e31540daf",
   "metadata": {},
   "outputs": [],
   "source": [
    "qb_replacements = qb[(qb['Rank'] > n_teams) & (qb['Rank'] <= n_teams*2)]"
   ]
  },
  {
   "cell_type": "code",
   "execution_count": 40,
   "id": "0173165e-1a43-4ed1-b994-41f5bed22e8a",
   "metadata": {},
   "outputs": [],
   "source": [
    "qb_wkly_rep_score = np.zeros(18)\n",
    "\n",
    "for i in range(len(qb_wkly_rep_score)):\n",
    "    qb_wkly_rep_score[i] = qb_replacements[qb_replacements['WK'] == i+1]['FPTS'].mean()"
   ]
  },
  {
   "cell_type": "code",
   "execution_count": 41,
   "id": "a18a4517-4752-4ead-80cd-2f18ded866f0",
   "metadata": {},
   "outputs": [
    {
     "data": {
      "text/plain": [
       "array([16.275     , 14.75833333, 14.675     , 15.13333333, 13.825     ,\n",
       "       12.625     , 12.425     , 16.03333333, 12.54166667, 16.20833333,\n",
       "       12.83333333, 15.41666667, 14.65833333, 12.85      , 13.85      ,\n",
       "       13.05      , 12.46666667, 11.81666667])"
      ]
     },
     "execution_count": 41,
     "metadata": {},
     "output_type": "execute_result"
    }
   ],
   "source": [
    "qb_wkly_rep_score"
   ]
  },
  {
   "cell_type": "markdown",
   "id": "e7e6a5f8-7c49-4259-942e-7a34284916e8",
   "metadata": {},
   "source": [
    "### RB"
   ]
  },
  {
   "cell_type": "code",
   "execution_count": 42,
   "id": "5ebe7b3a-04d0-423a-ac6a-4ece9fa07a2c",
   "metadata": {},
   "outputs": [],
   "source": [
    "rb_replacements = rb[(rb['Rank'] > n_teams*2) & (rb['Rank'] <= n_teams*4)]"
   ]
  },
  {
   "cell_type": "code",
   "execution_count": 43,
   "id": "0b3cbf27-0114-48fc-bc84-f0ecad863712",
   "metadata": {},
   "outputs": [],
   "source": [
    "rb_wkly_rep_score = np.zeros(18)\n",
    "\n",
    "for i in range(len(rb_wkly_rep_score)):\n",
    "    rb_wkly_rep_score[i] = rb_replacements[rb_replacements['WK'] == i+1]['FPTS'].mean()"
   ]
  },
  {
   "cell_type": "code",
   "execution_count": 44,
   "id": "b61cc3b2-dded-48a9-a88b-b361d2bf198a",
   "metadata": {},
   "outputs": [
    {
     "data": {
      "text/plain": [
       "array([7.6875    , 6.61666667, 7.03333333, 7.61666667, 7.62916667,\n",
       "       4.78333333, 6.65416667, 7.45416667, 4.28333333, 5.89166667,\n",
       "       5.41666667, 7.94166667, 6.775     , 4.9375    , 8.05833333,\n",
       "       6.1875    , 6.9125    , 6.34583333])"
      ]
     },
     "execution_count": 44,
     "metadata": {},
     "output_type": "execute_result"
    }
   ],
   "source": [
    "rb_wkly_rep_score"
   ]
  },
  {
   "cell_type": "markdown",
   "id": "7c051456-c0e7-40a3-ad4c-e6405b335721",
   "metadata": {},
   "source": [
    "### WR"
   ]
  },
  {
   "cell_type": "code",
   "execution_count": 45,
   "id": "eabd97bb-faee-4d5a-9c5e-587d92f40b20",
   "metadata": {},
   "outputs": [],
   "source": [
    "wr_replacements = wr[(wr['Rank'] > n_teams*2) & (wr['Rank'] <= n_teams*4)]"
   ]
  },
  {
   "cell_type": "code",
   "execution_count": 46,
   "id": "8b3c6fca-a59f-4e6a-9955-0451b3289a3b",
   "metadata": {},
   "outputs": [],
   "source": [
    "wr_wkly_rep_score = np.zeros(18)\n",
    "\n",
    "for i in range(len(wr_wkly_rep_score)):\n",
    "    wr_wkly_rep_score[i] = wr_replacements[wr_replacements['WK'] == i+1]['FPTS'].mean()"
   ]
  },
  {
   "cell_type": "code",
   "execution_count": 47,
   "id": "2904b431-4754-41a6-b177-e3ea30e7cc81",
   "metadata": {},
   "outputs": [
    {
     "data": {
      "text/plain": [
       "array([ 9.75833333, 10.0875    , 10.64166667,  8.65833333,  8.74583333,\n",
       "        8.61666667,  8.6375    ,  9.35416667,  5.7125    ,  9.52083333,\n",
       "        8.65833333,  9.77916667,  9.27916667,  9.09583333,  9.54583333,\n",
       "        8.96666667,  6.70833333,  8.75416667])"
      ]
     },
     "execution_count": 47,
     "metadata": {},
     "output_type": "execute_result"
    }
   ],
   "source": [
    "wr_wkly_rep_score"
   ]
  },
  {
   "cell_type": "markdown",
   "id": "6b2d09a5-046b-4b7b-9214-2f4a1e6be19d",
   "metadata": {},
   "source": [
    "### TE"
   ]
  },
  {
   "cell_type": "code",
   "execution_count": 48,
   "id": "938f77c7-ab37-4c2c-9580-2fd68098da74",
   "metadata": {},
   "outputs": [],
   "source": [
    "te_replacements = te[(te['Rank'] > n_teams) & (te['Rank'] <= n_teams*2)]"
   ]
  },
  {
   "cell_type": "code",
   "execution_count": 49,
   "id": "6326d0a3-c9a1-42e0-ad59-c27a14735e3d",
   "metadata": {},
   "outputs": [],
   "source": [
    "te_wkly_rep_score = np.zeros(18)\n",
    "\n",
    "for i in range(len(te_wkly_rep_score)):\n",
    "    te_wkly_rep_score[i] = te_replacements[te_replacements['WK'] == i+1]['FPTS'].mean()"
   ]
  },
  {
   "cell_type": "code",
   "execution_count": 50,
   "id": "15b5ec94-0011-41d7-b72e-839d95389a5a",
   "metadata": {},
   "outputs": [
    {
     "data": {
      "text/plain": [
       "array([6.225     , 6.11666667, 6.03333333, 6.34166667, 6.04166667,\n",
       "       6.93333333, 6.11666667, 6.5       , 5.25833333, 5.025     ,\n",
       "       4.41666667, 5.95833333, 4.68333333, 3.78333333, 7.19166667,\n",
       "       6.31666667, 8.4       , 6.3       ])"
      ]
     },
     "execution_count": 50,
     "metadata": {},
     "output_type": "execute_result"
    }
   ],
   "source": [
    "te_wkly_rep_score"
   ]
  },
  {
   "cell_type": "markdown",
   "id": "08844063-7faf-4f33-a4f9-f7a526809fe3",
   "metadata": {
    "tags": []
   },
   "source": [
    "### FLEX\n",
    "\n",
    "This is a bit harder to calculate since the FLEX position could be a RB, WR, or TE. I'll assume the FLEX starters are the top 12-highest scores after the top 24 RBs, top 24 WRs, and top 12 TEs are removed, and the replacement-level FLEX players are the next 12 highest scorers."
   ]
  },
  {
   "cell_type": "code",
   "execution_count": 63,
   "id": "7450abda-1bbc-4228-840e-8503c7fb98e8",
   "metadata": {},
   "outputs": [],
   "source": [
    "rb_narrow = rb[['Rank', 'Player', 'FPTS', 'WK']].copy()\n",
    "wr_narrow = wr[['Rank', 'Player', 'FPTS', 'WK']].copy()\n",
    "te_narrow = te[['Rank', 'Player', 'FPTS', 'WK']].copy()"
   ]
  },
  {
   "cell_type": "code",
   "execution_count": 64,
   "id": "40921bfa-bd28-48e8-9e55-d9ea9a55c5df",
   "metadata": {},
   "outputs": [],
   "source": [
    "rb_narrow['POS'] = 'RB'\n",
    "wr_narrow['POS'] = 'WR'\n",
    "te_narrow['POS'] = 'TE'"
   ]
  },
  {
   "cell_type": "code",
   "execution_count": 87,
   "id": "fb713579-fdfd-4b72-87de-ff04ab625292",
   "metadata": {},
   "outputs": [],
   "source": [
    "flex = pd.concat([rb_narrow, wr_narrow, te_narrow])"
   ]
  },
  {
   "cell_type": "code",
   "execution_count": 94,
   "id": "f78be58c-b1e4-4103-ad85-94a7ccdb3cf2",
   "metadata": {},
   "outputs": [
    {
     "data": {
      "text/html": [
       "<div>\n",
       "<style scoped>\n",
       "    .dataframe tbody tr th:only-of-type {\n",
       "        vertical-align: middle;\n",
       "    }\n",
       "\n",
       "    .dataframe tbody tr th {\n",
       "        vertical-align: top;\n",
       "    }\n",
       "\n",
       "    .dataframe thead th {\n",
       "        text-align: right;\n",
       "    }\n",
       "</style>\n",
       "<table border=\"1\" class=\"dataframe\">\n",
       "  <thead>\n",
       "    <tr style=\"text-align: right;\">\n",
       "      <th></th>\n",
       "      <th>Rank</th>\n",
       "      <th>Player</th>\n",
       "      <th>FPTS</th>\n",
       "      <th>WK</th>\n",
       "      <th>POS</th>\n",
       "    </tr>\n",
       "  </thead>\n",
       "  <tbody>\n",
       "    <tr>\n",
       "      <th>24</th>\n",
       "      <td>25.0</td>\n",
       "      <td>Brandon Bolden</td>\n",
       "      <td>9.8</td>\n",
       "      <td>1</td>\n",
       "      <td>RB</td>\n",
       "    </tr>\n",
       "    <tr>\n",
       "      <th>25</th>\n",
       "      <td>26.0</td>\n",
       "      <td>Najee Harris</td>\n",
       "      <td>9.6</td>\n",
       "      <td>1</td>\n",
       "      <td>RB</td>\n",
       "    </tr>\n",
       "    <tr>\n",
       "      <th>26</th>\n",
       "      <td>27.0</td>\n",
       "      <td>Rex Burkhead</td>\n",
       "      <td>9.5</td>\n",
       "      <td>1</td>\n",
       "      <td>RB</td>\n",
       "    </tr>\n",
       "    <tr>\n",
       "      <th>27</th>\n",
       "      <td>28.0</td>\n",
       "      <td>Austin Ekeler</td>\n",
       "      <td>9.2</td>\n",
       "      <td>1</td>\n",
       "      <td>RB</td>\n",
       "    </tr>\n",
       "    <tr>\n",
       "      <th>28</th>\n",
       "      <td>29.0</td>\n",
       "      <td>Aaron Jones</td>\n",
       "      <td>9.1</td>\n",
       "      <td>1</td>\n",
       "      <td>RB</td>\n",
       "    </tr>\n",
       "  </tbody>\n",
       "</table>\n",
       "</div>"
      ],
      "text/plain": [
       "    Rank          Player  FPTS  WK POS\n",
       "24  25.0  Brandon Bolden   9.8   1  RB\n",
       "25  26.0    Najee Harris   9.6   1  RB\n",
       "26  27.0    Rex Burkhead   9.5   1  RB\n",
       "27  28.0   Austin Ekeler   9.2   1  RB\n",
       "28  29.0     Aaron Jones   9.1   1  RB"
      ]
     },
     "execution_count": 94,
     "metadata": {},
     "output_type": "execute_result"
    }
   ],
   "source": [
    "flex.head()"
   ]
  },
  {
   "cell_type": "code",
   "execution_count": 88,
   "id": "20796eb6-754c-47f1-8405-46bdc11c6051",
   "metadata": {},
   "outputs": [],
   "source": [
    "# Removing starting RBs, WRs, and TEs\n",
    "flex = flex[((flex['POS'] == 'RB') & (flex['Rank'] > 24)) |\n",
    "            ((flex['POS'] == 'WR') & (flex['Rank'] > 24)) |\n",
    "            ((flex['POS'] == 'TE') & (flex['Rank'] > 12))]"
   ]
  },
  {
   "cell_type": "code",
   "execution_count": 95,
   "id": "ecbb9c4b-d29e-4c86-ae83-bef6f3aeef9d",
   "metadata": {},
   "outputs": [],
   "source": [
    "flex = flex.sort_values(['WK', 'FPTS'], ascending=False)"
   ]
  },
  {
   "cell_type": "code",
   "execution_count": 98,
   "id": "99675561-8bb9-4d41-98a9-76d9d5503d64",
   "metadata": {},
   "outputs": [],
   "source": [
    "flex['Rank'] = flex.groupby(['WK']).cumcount()+1"
   ]
  },
  {
   "cell_type": "code",
   "execution_count": 106,
   "id": "e8648ba7-7b9b-4eaa-be9f-80f5dbd3ec99",
   "metadata": {},
   "outputs": [],
   "source": [
    "flex_replacements = flex[(flex['Rank'] > n_teams) & (flex['Rank'] <=n_teams*2)]"
   ]
  },
  {
   "cell_type": "code",
   "execution_count": 107,
   "id": "5421501b-ec2d-44c1-93bb-360fc59062b2",
   "metadata": {},
   "outputs": [],
   "source": [
    "flex_wkly_rep_score = np.zeros(18)\n",
    "\n",
    "for i in range(len(flex_wkly_rep_score)):\n",
    "    flex_wkly_rep_score[i] = flex_replacements[flex_replacements['WK'] == i+1]['FPTS'].mean()"
   ]
  },
  {
   "cell_type": "code",
   "execution_count": 108,
   "id": "f30f3b4f-a58e-4850-a7c9-6902520a8fca",
   "metadata": {},
   "outputs": [
    {
     "data": {
      "text/plain": [
       "array([ 9.125     ,  8.925     , 10.01666667,  8.99166667,  8.89166667,\n",
       "        7.775     ,  8.475     ,  9.20833333,  5.98333333,  8.625     ,\n",
       "        8.04166667,  9.61666667,  8.7       ,  7.90833333,  9.91666667,\n",
       "        8.54166667,  7.99166667,  7.95833333])"
      ]
     },
     "execution_count": 108,
     "metadata": {},
     "output_type": "execute_result"
    }
   ],
   "source": [
    "flex_wkly_rep_score"
   ]
  },
  {
   "cell_type": "markdown",
   "id": "76b51469-69d9-4470-b030-4b56d90d4663",
   "metadata": {},
   "source": [
    "## Individual Player WAR"
   ]
  },
  {
   "cell_type": "code",
   "execution_count": null,
   "id": "1c47ccc5-a867-4b78-b66a-3a61b5a34257",
   "metadata": {},
   "outputs": [],
   "source": []
  }
 ],
 "metadata": {
  "kernelspec": {
   "display_name": "Python 3 (ipykernel)",
   "language": "python",
   "name": "python3"
  },
  "language_info": {
   "codemirror_mode": {
    "name": "ipython",
    "version": 3
   },
   "file_extension": ".py",
   "mimetype": "text/x-python",
   "name": "python",
   "nbconvert_exporter": "python",
   "pygments_lexer": "ipython3",
   "version": "3.9.7"
  }
 },
 "nbformat": 4,
 "nbformat_minor": 5
}
